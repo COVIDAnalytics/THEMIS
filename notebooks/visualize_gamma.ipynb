{
 "cells": [
  {
   "cell_type": "code",
   "execution_count": 1,
   "metadata": {},
   "outputs": [],
   "source": [
    "import numpy as np\n",
    "import pandas as pd\n",
    "import matplotlib.pyplot as plt\n",
    "%matplotlib inline\n",
    "import seaborn as sns"
   ]
  },
  {
   "cell_type": "code",
   "execution_count": 2,
   "metadata": {},
   "outputs": [],
   "source": [
    "import os\n",
    "os.chdir(\"../\")"
   ]
  },
  {
   "cell_type": "code",
   "execution_count": 3,
   "metadata": {},
   "outputs": [
    {
     "name": "stderr",
     "output_type": "stream",
     "text": [
      "/Users/saksham/opt/anaconda3/lib/python3.8/site-packages/IPython/core/interactiveshell.py:3263: DtypeWarning: Columns (2,3) have mixed types.Specify dtype option on import or set low_memory=False.\n",
      "  if (await self.run_code(code, result,  async_=asy)):\n"
     ]
    }
   ],
   "source": [
    "from policy_functions.policy import Policy\n",
    "from pandemic_functions.delphi_functions.DELPHI_model_policy_scenarios import *"
   ]
  },
  {
   "cell_type": "code",
   "execution_count": 4,
   "metadata": {},
   "outputs": [],
   "source": [
    "country = \"US\"\n",
    "province = \"New York\"\n",
    "country_sub = country.replace(' ', '_')\n",
    "province_sub = province.replace(' ', '_')\n",
    "# past_parameters = pd.read_csv(\"pandemic_functions/pandemic_data/Parameters_Global_V2_20200703.csv\")\n",
    "past_parameters = pd.read_csv(\"pandemic_functions/pandemic_data/NY_Correction_Parameters_Global_V2_annealing_20210409.csv\")\n",
    "totalcases = pd.read_csv(f\"pandemic_functions/pandemic_data/Cases_{country_sub}_{province_sub}.csv\")\n",
    "\n",
    "def calculate_gamma_curve(policy):\n",
    "    parameter_list_total = past_parameters[(past_parameters.Country == country) & (past_parameters.Province == province)]\n",
    "    final_start_date = max(parse(parameter_list_total['Data Start Date'].values[0]), parse(policy_data_start_date))\n",
    "    final_start_date = str(final_start_date.date())\n",
    "    print(final_start_date)\n",
    "\n",
    "    if country == \"US\":\n",
    "        policy_data = read_policy_data_us_only(province, start_date=final_start_date, end_date=policy_data_end_date)\n",
    "    else:\n",
    "        policy_data = read_oxford_country_policy_data(start_date=policy.start_date,\n",
    "                                                end_date=policy.end_date,\n",
    "                                                country=country)\n",
    "\n",
    "    if len(parameter_list_total) > 0:\n",
    "        parameter_list_line = parameter_list_total.iloc[-1, :].values.tolist()\n",
    "        parameter_list = parameter_list_line[5:]\n",
    "        date_day_since100 = pd.to_datetime(parameter_list_line[3])\n",
    "        # Allowing a 5% drift for states with past predictions, starting in the 5th position are the parameters\n",
    "        start_date = date_day_since100\n",
    "        validcases = totalcases[\n",
    "            (totalcases.date >= str(policy.start_date))\n",
    "            & (totalcases.date <= str(policy.end_date))\n",
    "        ][[\"day_since100\", \"case_cnt\", \"death_cnt\", \"total_hospitalization\", \"people_vaccinated\", \"people_fully_vaccinated\"]].reset_index(drop=True)\n",
    "    else:\n",
    "        print(f\"Couldn't find past parameters for {country} and {province}\")\n",
    "        return 0, 0, 0, 0\n",
    "\n",
    "    # Now we start the modeling part:\n",
    "    if len(validcases) > validcases_threshold_policy:\n",
    "        PopulationT = popcountries[\n",
    "            (popcountries.Country == country) & (popcountries.Province == province)\n",
    "        ].pop2016.iloc[-1]\n",
    "        N = PopulationT\n",
    "        PopulationI = validcases.loc[0, \"case_cnt\"]\n",
    "        PopulationD = validcases.loc[0, \"death_cnt\"]\n",
    "        R_0 = validcases.loc[0, \"death_cnt\"] * 5 if validcases.loc[0, \"case_cnt\"] - validcases.loc[0, \"death_cnt\"]> validcases.loc[0, \"death_cnt\"] * 5 else 0\n",
    "        cases_t_14days = totalcases[totalcases.date >= str(start_date- pd.Timedelta(14, 'D'))]['case_cnt'].values[0]\n",
    "        deaths_t_9days = totalcases[totalcases.date >= str(start_date - pd.Timedelta(9, 'D'))]['death_cnt'].values[0]\n",
    "        R_upperbound = validcases.loc[0, \"case_cnt\"] - validcases.loc[0, \"death_cnt\"]\n",
    "        R_heuristic = cases_t_14days - deaths_t_9days\n",
    "\n",
    "        \"\"\"\n",
    "        Fixed Parameters based on meta-analysis:\n",
    "        p_h: Hospitalization Percentage\n",
    "        RecoverHD: Average Days until Recovery\n",
    "        VentilationD: Number of Days on Ventilation for Ventilated Patients\n",
    "        maxT: Maximum # of Days Modeled\n",
    "        p_d: Percentage of True Cases Detected\n",
    "        p_v: Percentage of Hospitalized Patients Ventilated,\n",
    "        balance: Regularization coefficient between cases and deaths\n",
    "        \"\"\"\n",
    "        policy_scenario_end_date = pd.to_datetime(policy.end_date)\n",
    "        maxT = (policy_scenario_end_date - date_day_since100).days + 1\n",
    "        policy_scenario_start_date = pd.to_datetime(policy.start_date)\n",
    "        policy_startT = max((policy_scenario_start_date - date_day_since100).days + 1, 0)\n",
    "        t_cases = validcases[\"day_since100\"].tolist() - validcases.loc[0, \"day_since100\"]\n",
    "        # balance, cases_data_fit, deaths_data_fit, hosp_balance, hosp_data_fit = create_fitting_data_from_validcases(validcases)\n",
    "        GLOBAL_PARAMS_FIXED = (N, R_upperbound, R_heuristic, R_0, PopulationD, PopulationI, p_v, p_d, p_h)\n",
    "        best_params = parameter_list\n",
    "        t_predictions = list(range(maxT))\n",
    "\n",
    "        print(date_day_since100)\n",
    "        policy_scenario_gamma_shifts = {}\n",
    "        for i, alt_policy in enumerate(policy.policy_vector):\n",
    "            start = policy_scenario_start_date + relativedelta(months=i)\n",
    "            end = policy_scenario_start_date + relativedelta(months=i+1)\n",
    "\n",
    "            if start < date_day_since100 and end > date_day_since100:\n",
    "                start = date_day_since100\n",
    "\n",
    "            if start >= date_day_since100:\n",
    "                t1 = (start - date_day_since100).days + 1\n",
    "                t2 = (end - date_day_since100).days + 1\n",
    "                latest_policy = get_latest_policy(policy_data, end)\n",
    "                policy_scenario_gamma_shifts[(t1, t2)] = [\n",
    "                    default_dict_normalized_policy_gamma[alt_policy],\n",
    "                    default_dict_normalized_policy_gamma[latest_policy]\n",
    "                ]\n",
    "                print((t1, latest_policy, default_dict_normalized_policy_gamma[latest_policy]))\n",
    "\n",
    "        alpha, days, r_s, r_dth, p_dth, r_dthdecay, k1, k2, jump, t_jump, std_normal  = parameter_list\n",
    "\n",
    "        def evaluate_gamma(t):\n",
    "            gamma_t = (\n",
    "                    (2 / np.pi) * np.arctan(-(t - days) / 20 * r_s) + 1 +\n",
    "                    jump * np.exp(-(t - t_jump)**2 /(2 * std_normal ** 2))\n",
    "            )\n",
    "            \n",
    "            if t > policy_startT:\n",
    "                for window, gamma_shifts in policy_scenario_gamma_shifts.items():\n",
    "                    if t >= window[0] and t<window[1]:\n",
    "                        normalized_gamma_alt_policy = gamma_shifts[0]\n",
    "                        normalized_gamma_actual_policy = gamma_shifts[1]\n",
    "                        gamma_t_month = (\n",
    "                                (2 / np.pi) * np.arctan(-(window[1] - days) / 20 * r_s) + 1 +\n",
    "                                jump * np.exp(-(window[1] - t_jump)**2 / (2 * std_normal ** 2))\n",
    "                        )\n",
    "                        break               \n",
    "                epsilon = 1e-4\n",
    "                gamma_t = gamma_t + min(\n",
    "                    (2 - gamma_t_month) / (1 - normalized_gamma_alt_policy + epsilon),\n",
    "                    (gamma_t_month / normalized_gamma_actual_policy) *\n",
    "                    (normalized_gamma_alt_policy - normalized_gamma_actual_policy)\n",
    "                )\n",
    "            return gamma_t\n",
    "\n",
    "        gamma_curve = [evaluate_gamma(t) for t in t_predictions]\n",
    "        return gamma_curve"
   ]
  },
  {
   "cell_type": "code",
   "execution_count": 5,
   "metadata": {},
   "outputs": [
    {
     "name": "stdout",
     "output_type": "stream",
     "text": [
      "2020-03-08\n",
      "2020-03-08 00:00:00\n",
      "(1, 'Lockdown', 0.239)\n",
      "(25, 'Lockdown', 0.239)\n",
      "(55, 'Restrict_Mass_Gatherings_and_Schools_and_Others', 0.423)\n"
     ]
    }
   ],
   "source": [
    "policy1 = Policy(policy_type = \"hypothetical\", start_date = \"2020-03-01\", policy_vector = ['Lockdown', 'Lockdown', 'Lockdown'])\n",
    "gamma1 = calculate_gamma_curve(policy1)"
   ]
  },
  {
   "cell_type": "code",
   "execution_count": 6,
   "metadata": {},
   "outputs": [
    {
     "data": {
      "text/plain": [
       "[<matplotlib.lines.Line2D at 0x7fb66e0896a0>]"
      ]
     },
     "execution_count": 6,
     "metadata": {},
     "output_type": "execute_result"
    },
    {
     "data": {
      "image/png": "[encoded data removed]",
      "text/plain": [
       "<Figure size 432x288 with 1 Axes>"
      ]
     },
     "metadata": {
      "needs_background": "light"
     },
     "output_type": "display_data"
    }
   ],
   "source": [
    "plt.plot(gamma1)"
   ]
  },
  {
   "cell_type": "code",
   "execution_count": 7,
   "metadata": {},
   "outputs": [
    {
     "name": "stdout",
     "output_type": "stream",
     "text": [
      "2020-03-08\n",
      "2020-03-08 00:00:00\n",
      "(1, 'Lockdown', 0.239)\n",
      "(25, 'Lockdown', 0.239)\n",
      "(55, 'Restrict_Mass_Gatherings_and_Schools_and_Others', 0.423)\n"
     ]
    },
    {
     "data": {
      "text/plain": [
       "[<matplotlib.lines.Line2D at 0x7fb654f81640>]"
      ]
     },
     "execution_count": 7,
     "metadata": {},
     "output_type": "execute_result"
    },
    {
     "data": {
      "image/png": "[encoded data removed]",
      "text/plain": [
       "<Figure size 432x288 with 1 Axes>"
      ]
     },
     "metadata": {
      "needs_background": "light"
     },
     "output_type": "display_data"
    }
   ],
   "source": [
    "policy2 = Policy(policy_type = \"hypothetical\", start_date = \"2020-03-01\", policy_vector = ['No_Measure', 'No_Measure', 'No_Measure'])\n",
    "gamma2 = calculate_gamma_curve(policy2)\n",
    "plt.plot(gamma2)"
   ]
  },
  {
   "cell_type": "code",
   "execution_count": 13,
   "metadata": {},
   "outputs": [
    {
     "data": {
      "text/plain": [
       "[<matplotlib.lines.Line2D at 0x7fa1223f86d0>]"
      ]
     },
     "execution_count": 13,
     "metadata": {},
     "output_type": "execute_result"
    },
    {
     "data": {
      "image/png": "[encoded data removed]",
      "image/svg+xml": "<?xml version=\"1.0\" encoding=\"utf-8\" standalone=\"no\"?>\n<!DOCTYPE svg PUBLIC \"-//W3C//DTD SVG 1.1//EN\"\n  \"http://www.w3.org/Graphics/SVG/1.1/DTD/svg11.dtd\">\n<!-- Created with matplotlib (https://matplotlib.org/) -->\n<svg height=\"248.518125pt\" version=\"1.1\" viewBox=\"0 0 380.482812 248.518125\" width=\"380.482812pt\" xmlns=\"http://www.w3.org/2000/svg\" xmlns:xlink=\"http://www.w3.org/1999/xlink\">\n <defs>\n  <style type=\"text/css\">\n*{stroke-linecap:butt;stroke-linejoin:round;}\n  </style>\n </defs>\n <g id=\"figure_1\">\n  <g id=\"patch_1\">\n   <path d=\"M -0 248.518125 \nL 380.482812 248.518125 \nL 380.482812 0 \nL -0 0 \nz\n\" style=\"fill:none;\"/>\n  </g>\n  <g id=\"axes_1\">\n   <g id=\"patch_2\">\n    <path d=\"M 38.482813 224.64 \nL 373.282813 224.64 \nL 373.282813 7.2 \nL 38.482813 7.2 \nz\n\" style=\"fill:#ffffff;\"/>\n   </g>\n   <g id=\"matplotlib.axis_1\">\n    <g id=\"xtick_1\">\n     <g id=\"line2d_1\">\n      <defs>\n       <path d=\"M 0 0 \nL 0 3.5 \n\" id=\"m8165ac7d91\" style=\"stroke:#000000;stroke-width:0.8;\"/>\n      </defs>\n      <g>\n       <use style=\"stroke:#000000;stroke-width:0.8;\" x=\"53.700994\" xlink:href=\"#m8165ac7d91\" y=\"224.64\"/>\n      </g>\n     </g>\n     <g id=\"text_1\">\n      <!-- 0 -->\n      <defs>\n       <path d=\"M 31.78125 66.40625 \nQ 24.171875 66.40625 20.328125 58.90625 \nQ 16.5 51.421875 16.5 36.375 \nQ 16.5 21.390625 20.328125 13.890625 \nQ 24.171875 6.390625 31.78125 6.390625 \nQ 39.453125 6.390625 43.28125 13.890625 \nQ 47.125 21.390625 47.125 36.375 \nQ 47.125 51.421875 43.28125 58.90625 \nQ 39.453125 66.40625 31.78125 66.40625 \nz\nM 31.78125 74.21875 \nQ 44.046875 74.21875 50.515625 64.515625 \nQ 56.984375 54.828125 56.984375 36.375 \nQ 56.984375 17.96875 50.515625 8.265625 \nQ 44.046875 -1.421875 31.78125 -1.421875 \nQ 19.53125 -1.421875 13.0625 8.265625 \nQ 6.59375 17.96875 6.59375 36.375 \nQ 6.59375 54.828125 13.0625 64.515625 \nQ 19.53125 74.21875 31.78125 74.21875 \nz\n\" id=\"DejaVuSans-48\"/>\n      </defs>\n      <g transform=\"translate(50.519744 239.238437)scale(0.1 -0.1)\">\n       <use xlink:href=\"#DejaVuSans-48\"/>\n      </g>\n     </g>\n    </g>\n    <g id=\"xtick_2\">\n     <g id=\"line2d_2\">\n      <g>\n       <use style=\"stroke:#000000;stroke-width:0.8;\" x=\"125.315968\" xlink:href=\"#m8165ac7d91\" y=\"224.64\"/>\n      </g>\n     </g>\n     <g id=\"text_2\">\n      <!-- 20 -->\n      <defs>\n       <path d=\"M 19.1875 8.296875 \nL 53.609375 8.296875 \nL 53.609375 0 \nL 7.328125 0 \nL 7.328125 8.296875 \nQ 12.9375 14.109375 22.625 23.890625 \nQ 32.328125 33.6875 34.8125 36.53125 \nQ 39.546875 41.84375 41.421875 45.53125 \nQ 43.3125 49.21875 43.3125 52.78125 \nQ 43.3125 58.59375 39.234375 62.25 \nQ 35.15625 65.921875 28.609375 65.921875 \nQ 23.96875 65.921875 18.8125 64.3125 \nQ 13.671875 62.703125 7.8125 59.421875 \nL 7.8125 69.390625 \nQ 13.765625 71.78125 18.9375 73 \nQ 24.125 74.21875 28.421875 74.21875 \nQ 39.75 74.21875 46.484375 68.546875 \nQ 53.21875 62.890625 53.21875 53.421875 \nQ 53.21875 48.921875 51.53125 44.890625 \nQ 49.859375 40.875 45.40625 35.40625 \nQ 44.1875 33.984375 37.640625 27.21875 \nQ 31.109375 20.453125 19.1875 8.296875 \nz\n\" id=\"DejaVuSans-50\"/>\n      </defs>\n      <g transform=\"translate(118.953468 239.238437)scale(0.1 -0.1)\">\n       <use xlink:href=\"#DejaVuSans-50\"/>\n       <use x=\"63.623047\" xlink:href=\"#DejaVuSans-48\"/>\n      </g>\n     </g>\n    </g>\n    <g id=\"xtick_3\">\n     <g id=\"line2d_3\">\n      <g>\n       <use style=\"stroke:#000000;stroke-width:0.8;\" x=\"196.930941\" xlink:href=\"#m8165ac7d91\" y=\"224.64\"/>\n      </g>\n     </g>\n     <g id=\"text_3\">\n      <!-- 40 -->\n      <defs>\n       <path d=\"M 37.796875 64.3125 \nL 12.890625 25.390625 \nL 37.796875 25.390625 \nz\nM 35.203125 72.90625 \nL 47.609375 72.90625 \nL 47.609375 25.390625 \nL 58.015625 25.390625 \nL 58.015625 17.1875 \nL 47.609375 17.1875 \nL 47.609375 0 \nL 37.796875 0 \nL 37.796875 17.1875 \nL 4.890625 17.1875 \nL 4.890625 26.703125 \nz\n\" id=\"DejaVuSans-52\"/>\n      </defs>\n      <g transform=\"translate(190.568441 239.238437)scale(0.1 -0.1)\">\n       <use xlink:href=\"#DejaVuSans-52\"/>\n       <use x=\"63.623047\" xlink:href=\"#DejaVuSans-48\"/>\n      </g>\n     </g>\n    </g>\n    <g id=\"xtick_4\">\n     <g id=\"line2d_4\">\n      <g>\n       <use style=\"stroke:#000000;stroke-width:0.8;\" x=\"268.545914\" xlink:href=\"#m8165ac7d91\" y=\"224.64\"/>\n      </g>\n     </g>\n     <g id=\"text_4\">\n      <!-- 60 -->\n      <defs>\n       <path d=\"M 33.015625 40.375 \nQ 26.375 40.375 22.484375 35.828125 \nQ 18.609375 31.296875 18.609375 23.390625 \nQ 18.609375 15.53125 22.484375 10.953125 \nQ 26.375 6.390625 33.015625 6.390625 \nQ 39.65625 6.390625 43.53125 10.953125 \nQ 47.40625 15.53125 47.40625 23.390625 \nQ 47.40625 31.296875 43.53125 35.828125 \nQ 39.65625 40.375 33.015625 40.375 \nz\nM 52.59375 71.296875 \nL 52.59375 62.3125 \nQ 48.875 64.0625 45.09375 64.984375 \nQ 41.3125 65.921875 37.59375 65.921875 \nQ 27.828125 65.921875 22.671875 59.328125 \nQ 17.53125 52.734375 16.796875 39.40625 \nQ 19.671875 43.65625 24.015625 45.921875 \nQ 28.375 48.1875 33.59375 48.1875 \nQ 44.578125 48.1875 50.953125 41.515625 \nQ 57.328125 34.859375 57.328125 23.390625 \nQ 57.328125 12.15625 50.6875 5.359375 \nQ 44.046875 -1.421875 33.015625 -1.421875 \nQ 20.359375 -1.421875 13.671875 8.265625 \nQ 6.984375 17.96875 6.984375 36.375 \nQ 6.984375 53.65625 15.1875 63.9375 \nQ 23.390625 74.21875 37.203125 74.21875 \nQ 40.921875 74.21875 44.703125 73.484375 \nQ 48.484375 72.75 52.59375 71.296875 \nz\n\" id=\"DejaVuSans-54\"/>\n      </defs>\n      <g transform=\"translate(262.183414 239.238437)scale(0.1 -0.1)\">\n       <use xlink:href=\"#DejaVuSans-54\"/>\n       <use x=\"63.623047\" xlink:href=\"#DejaVuSans-48\"/>\n      </g>\n     </g>\n    </g>\n    <g id=\"xtick_5\">\n     <g id=\"line2d_5\">\n      <g>\n       <use style=\"stroke:#000000;stroke-width:0.8;\" x=\"340.160887\" xlink:href=\"#m8165ac7d91\" y=\"224.64\"/>\n      </g>\n     </g>\n     <g id=\"text_5\">\n      <!-- 80 -->\n      <defs>\n       <path d=\"M 31.78125 34.625 \nQ 24.75 34.625 20.71875 30.859375 \nQ 16.703125 27.09375 16.703125 20.515625 \nQ 16.703125 13.921875 20.71875 10.15625 \nQ 24.75 6.390625 31.78125 6.390625 \nQ 38.8125 6.390625 42.859375 10.171875 \nQ 46.921875 13.96875 46.921875 20.515625 \nQ 46.921875 27.09375 42.890625 30.859375 \nQ 38.875 34.625 31.78125 34.625 \nz\nM 21.921875 38.8125 \nQ 15.578125 40.375 12.03125 44.71875 \nQ 8.5 49.078125 8.5 55.328125 \nQ 8.5 64.0625 14.71875 69.140625 \nQ 20.953125 74.21875 31.78125 74.21875 \nQ 42.671875 74.21875 48.875 69.140625 \nQ 55.078125 64.0625 55.078125 55.328125 \nQ 55.078125 49.078125 51.53125 44.71875 \nQ 48 40.375 41.703125 38.8125 \nQ 48.828125 37.15625 52.796875 32.3125 \nQ 56.78125 27.484375 56.78125 20.515625 \nQ 56.78125 9.90625 50.3125 4.234375 \nQ 43.84375 -1.421875 31.78125 -1.421875 \nQ 19.734375 -1.421875 13.25 4.234375 \nQ 6.78125 9.90625 6.78125 20.515625 \nQ 6.78125 27.484375 10.78125 32.3125 \nQ 14.796875 37.15625 21.921875 38.8125 \nz\nM 18.3125 54.390625 \nQ 18.3125 48.734375 21.84375 45.5625 \nQ 25.390625 42.390625 31.78125 42.390625 \nQ 38.140625 42.390625 41.71875 45.5625 \nQ 45.3125 48.734375 45.3125 54.390625 \nQ 45.3125 60.0625 41.71875 63.234375 \nQ 38.140625 66.40625 31.78125 66.40625 \nQ 25.390625 66.40625 21.84375 63.234375 \nQ 18.3125 60.0625 18.3125 54.390625 \nz\n\" id=\"DejaVuSans-56\"/>\n      </defs>\n      <g transform=\"translate(333.798387 239.238437)scale(0.1 -0.1)\">\n       <use xlink:href=\"#DejaVuSans-56\"/>\n       <use x=\"63.623047\" xlink:href=\"#DejaVuSans-48\"/>\n      </g>\n     </g>\n    </g>\n   </g>\n   <g id=\"matplotlib.axis_2\">\n    <g id=\"ytick_1\">\n     <g id=\"line2d_6\">\n      <defs>\n       <path d=\"M 0 0 \nL -3.5 0 \n\" id=\"m20e1a21529\" style=\"stroke:#000000;stroke-width:0.8;\"/>\n      </defs>\n      <g>\n       <use style=\"stroke:#000000;stroke-width:0.8;\" x=\"38.482813\" xlink:href=\"#m20e1a21529\" y=\"201.642399\"/>\n      </g>\n     </g>\n     <g id=\"text_6\">\n      <!-- −0.8 -->\n      <defs>\n       <path d=\"M 10.59375 35.5 \nL 73.1875 35.5 \nL 73.1875 27.203125 \nL 10.59375 27.203125 \nz\n\" id=\"DejaVuSans-8722\"/>\n       <path d=\"M 10.6875 12.40625 \nL 21 12.40625 \nL 21 0 \nL 10.6875 0 \nz\n\" id=\"DejaVuSans-46\"/>\n      </defs>\n      <g transform=\"translate(7.2 205.441617)scale(0.1 -0.1)\">\n       <use xlink:href=\"#DejaVuSans-8722\"/>\n       <use x=\"83.789062\" xlink:href=\"#DejaVuSans-48\"/>\n       <use x=\"147.412109\" xlink:href=\"#DejaVuSans-46\"/>\n       <use x=\"179.199219\" xlink:href=\"#DejaVuSans-56\"/>\n      </g>\n     </g>\n    </g>\n    <g id=\"ytick_2\">\n     <g id=\"line2d_7\">\n      <g>\n       <use style=\"stroke:#000000;stroke-width:0.8;\" x=\"38.482813\" xlink:href=\"#m20e1a21529\" y=\"155.502708\"/>\n      </g>\n     </g>\n     <g id=\"text_7\">\n      <!-- −0.6 -->\n      <g transform=\"translate(7.2 159.301927)scale(0.1 -0.1)\">\n       <use xlink:href=\"#DejaVuSans-8722\"/>\n       <use x=\"83.789062\" xlink:href=\"#DejaVuSans-48\"/>\n       <use x=\"147.412109\" xlink:href=\"#DejaVuSans-46\"/>\n       <use x=\"179.199219\" xlink:href=\"#DejaVuSans-54\"/>\n      </g>\n     </g>\n    </g>\n    <g id=\"ytick_3\">\n     <g id=\"line2d_8\">\n      <g>\n       <use style=\"stroke:#000000;stroke-width:0.8;\" x=\"38.482813\" xlink:href=\"#m20e1a21529\" y=\"109.363018\"/>\n      </g>\n     </g>\n     <g id=\"text_8\">\n      <!-- −0.4 -->\n      <g transform=\"translate(7.2 113.162236)scale(0.1 -0.1)\">\n       <use xlink:href=\"#DejaVuSans-8722\"/>\n       <use x=\"83.789062\" xlink:href=\"#DejaVuSans-48\"/>\n       <use x=\"147.412109\" xlink:href=\"#DejaVuSans-46\"/>\n       <use x=\"179.199219\" xlink:href=\"#DejaVuSans-52\"/>\n      </g>\n     </g>\n    </g>\n    <g id=\"ytick_4\">\n     <g id=\"line2d_9\">\n      <g>\n       <use style=\"stroke:#000000;stroke-width:0.8;\" x=\"38.482813\" xlink:href=\"#m20e1a21529\" y=\"63.223327\"/>\n      </g>\n     </g>\n     <g id=\"text_9\">\n      <!-- −0.2 -->\n      <g transform=\"translate(7.2 67.022546)scale(0.1 -0.1)\">\n       <use xlink:href=\"#DejaVuSans-8722\"/>\n       <use x=\"83.789062\" xlink:href=\"#DejaVuSans-48\"/>\n       <use x=\"147.412109\" xlink:href=\"#DejaVuSans-46\"/>\n       <use x=\"179.199219\" xlink:href=\"#DejaVuSans-50\"/>\n      </g>\n     </g>\n    </g>\n    <g id=\"ytick_5\">\n     <g id=\"line2d_10\">\n      <g>\n       <use style=\"stroke:#000000;stroke-width:0.8;\" x=\"38.482813\" xlink:href=\"#m20e1a21529\" y=\"17.083636\"/>\n      </g>\n     </g>\n     <g id=\"text_10\">\n      <!-- 0.0 -->\n      <g transform=\"translate(15.579688 20.882855)scale(0.1 -0.1)\">\n       <use xlink:href=\"#DejaVuSans-48\"/>\n       <use x=\"63.623047\" xlink:href=\"#DejaVuSans-46\"/>\n       <use x=\"95.410156\" xlink:href=\"#DejaVuSans-48\"/>\n      </g>\n     </g>\n    </g>\n   </g>\n   <g id=\"line2d_11\">\n    <path clip-path=\"url(#p5433e71e83)\" d=\"M 53.700994 17.083636 \nL 57.281743 214.756364 \nL 60.862492 214.756364 \nL 64.44324 214.756364 \nL 68.023989 214.756364 \nL 71.604738 214.756364 \nL 75.185486 214.756364 \nL 78.766235 214.756364 \nL 82.346984 214.756364 \nL 85.927732 214.756364 \nL 89.508481 214.756364 \nL 93.08923 214.756364 \nL 96.669978 214.756364 \nL 100.250727 214.756364 \nL 103.831476 214.756364 \nL 107.412224 214.756364 \nL 110.992973 214.756364 \nL 114.573722 214.756364 \nL 118.15447 214.756364 \nL 121.735219 214.756364 \nL 125.315968 214.756364 \nL 128.896716 214.756364 \nL 132.477465 214.756364 \nL 136.058214 214.756364 \nL 139.638962 214.756364 \nL 143.219711 113.059281 \nL 146.80046 113.059281 \nL 150.381208 113.059281 \nL 153.961957 113.059281 \nL 157.542706 113.059281 \nL 161.123454 113.059281 \nL 164.704203 113.059281 \nL 168.284952 113.059281 \nL 171.8657 113.059281 \nL 175.446449 113.059281 \nL 179.027198 113.059281 \nL 182.607946 113.059281 \nL 186.188695 113.059281 \nL 189.769444 113.059281 \nL 193.350192 113.059281 \nL 196.930941 113.059281 \nL 200.51169 113.059281 \nL 204.092438 113.059281 \nL 207.673187 113.059281 \nL 211.253935 113.059281 \nL 214.834684 113.059281 \nL 218.415433 113.059281 \nL 221.996181 113.059281 \nL 225.57693 113.059281 \nL 229.157679 113.059281 \nL 232.738427 113.059281 \nL 236.319176 113.059281 \nL 239.899925 113.059281 \nL 243.480673 113.059281 \nL 247.061422 113.059281 \nL 250.642171 52.242575 \nL 254.222919 52.242575 \nL 257.803668 52.242575 \nL 261.384417 52.242575 \nL 264.965165 52.242575 \nL 268.545914 52.242575 \nL 272.126663 52.242575 \nL 275.707411 52.242575 \nL 279.28816 52.242575 \nL 282.868909 52.242575 \nL 286.449657 52.242575 \nL 290.030406 52.242575 \nL 293.611155 52.242575 \nL 297.191903 52.242575 \nL 300.772652 52.242575 \nL 304.353401 52.242575 \nL 307.934149 52.242575 \nL 311.514898 52.242575 \nL 315.095647 52.242575 \nL 318.676395 52.242575 \nL 322.257144 52.242575 \nL 325.837893 52.242575 \nL 329.418641 52.242575 \nL 332.99939 52.242575 \nL 336.580139 52.242575 \nL 340.160887 52.242575 \nL 343.741636 52.242575 \nL 347.322385 52.242575 \nL 350.903133 52.242575 \nL 354.483882 52.242575 \nL 358.064631 52.242575 \n\" style=\"fill:none;stroke:#1f77b4;stroke-linecap:square;stroke-width:1.5;\"/>\n   </g>\n   <g id=\"patch_3\">\n    <path d=\"M 38.482813 224.64 \nL 38.482813 7.2 \n\" style=\"fill:none;stroke:#000000;stroke-linecap:square;stroke-linejoin:miter;stroke-width:0.8;\"/>\n   </g>\n   <g id=\"patch_4\">\n    <path d=\"M 373.282813 224.64 \nL 373.282813 7.2 \n\" style=\"fill:none;stroke:#000000;stroke-linecap:square;stroke-linejoin:miter;stroke-width:0.8;\"/>\n   </g>\n   <g id=\"patch_5\">\n    <path d=\"M 38.482813 224.64 \nL 373.282812 224.64 \n\" style=\"fill:none;stroke:#000000;stroke-linecap:square;stroke-linejoin:miter;stroke-width:0.8;\"/>\n   </g>\n   <g id=\"patch_6\">\n    <path d=\"M 38.482813 7.2 \nL 373.282812 7.2 \n\" style=\"fill:none;stroke:#000000;stroke-linecap:square;stroke-linejoin:miter;stroke-width:0.8;\"/>\n   </g>\n  </g>\n </g>\n <defs>\n  <clipPath id=\"p5433e71e83\">\n   <rect height=\"217.44\" width=\"334.8\" x=\"38.482813\" y=\"7.2\"/>\n  </clipPath>\n </defs>\n</svg>\n",
      "text/plain": [
       "<Figure size 432x288 with 1 Axes>"
      ]
     },
     "metadata": {
      "needs_background": "light"
     },
     "output_type": "display_data"
    }
   ],
   "source": [
    "gamma_diff = [(g1-g2) for g1,g2 in zip(gamma1, gamma2)]\n",
    "plt.plot(gamma_diff)"
   ]
  },
  {
   "cell_type": "code",
   "execution_count": null,
   "metadata": {},
   "outputs": [],
   "source": []
  }
 ],
 "metadata": {
  "interpreter": {
   "hash": "bcae9fa33c0b8b7ffb5e5f839154ee5123f3d8da27254582c09d65579e150ffa"
  },
  "kernelspec": {
   "display_name": "Python 3.8.3 64-bit ('base': conda)",
   "name": "python3"
  },
  "language_info": {
   "codemirror_mode": {
    "name": "ipython",
    "version": 3
   },
   "file_extension": ".py",
   "mimetype": "text/x-python",
   "name": "python",
   "nbconvert_exporter": "python",
   "pygments_lexer": "ipython3",
   "version": "3.8.3"
  },
  "orig_nbformat": 2
 },
 "nbformat": 4,
 "nbformat_minor": 2
}