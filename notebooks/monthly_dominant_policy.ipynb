{
 "cells": [
  {
   "cell_type": "markdown",
   "source": [
    "# Monthly Dominant Policies and Policy GDP & Unemployment Impact"
   ],
   "metadata": {}
  },
  {
   "cell_type": "markdown",
   "source": [
    "## Find domininat policy for every for a region"
   ],
   "metadata": {}
  },
  {
   "cell_type": "code",
   "execution_count": 1,
   "source": [
    "import numpy as np\n",
    "import pandas as pd\n",
    "from datetime import datetime\n",
    "from dateutil.relativedelta import relativedelta\n",
    "from dateparser import parse\n",
    "from copy import deepcopy"
   ],
   "outputs": [],
   "metadata": {}
  },
  {
   "cell_type": "code",
   "execution_count": 2,
   "source": [
    "import os\n",
    "os.chdir(\"../\")"
   ],
   "outputs": [],
   "metadata": {}
  },
  {
   "cell_type": "code",
   "execution_count": 17,
   "source": [
    "from pandemic_functions.delphi_functions.DELPHI_model_policy_scenarios import read_oxford_country_policy_data, read_policy_data_us_only, get_dominant_policy\n",
    "from pandemic_functions.pandemic_params import future_policies\n",
    "from cost_functions.economic_cost.economic_data.economic_params import TOTAL_GDP"
   ],
   "outputs": [],
   "metadata": {}
  },
  {
   "cell_type": "code",
   "execution_count": 15,
   "source": [
    "start_date = \"2020-03-01\"\n",
    "end_date =  \"2020-06-30\"\n",
    "\n",
    "region = 'ES'\n",
    "country = 'Spain'\n",
    "province = 'None'\n",
    "\n",
    "if country == 'US':\n",
    "    policy_data = read_policy_data_us_only(province, start_date=start_date, end_date=end_date)\n",
    "else:\n",
    "    policy_data = read_oxford_country_policy_data(country=country, start_date=start_date, end_date=end_date)"
   ],
   "outputs": [],
   "metadata": {}
  },
  {
   "cell_type": "code",
   "execution_count": 5,
   "source": [
    "end_dt = parse(end_date)\n",
    "\n",
    "dt1 = parse(start_date)\n",
    "dt2 = dt1 + relativedelta(months=1, days=-1)\n",
    "\n",
    "dominant_policy_dict = {\"month_of\": [], \"dominant_policy\": []}\n",
    "\n",
    "while dt2 <= end_dt:\n",
    "    dominant_policy_dict[\"month_of\"].append(dt1.date())\n",
    "    dominant_policy_dict[\"dominant_policy\"].append(get_dominant_policy(policy_data, start_date=dt1, end_date=dt2))\n",
    "    dt1 = dt2 + relativedelta(days=1)\n",
    "    dt2 = dt1 + relativedelta(months=1, days=-1)\n",
    "\n",
    "dominant_policy_df = pd.DataFrame.from_dict(dominant_policy_dict)"
   ],
   "outputs": [],
   "metadata": {}
  },
  {
   "cell_type": "code",
   "execution_count": 6,
   "source": [
    "dominant_policy_df"
   ],
   "outputs": [
    {
     "output_type": "execute_result",
     "data": {
      "text/plain": [
       "     month_of                                  dominant_policy\n",
       "0  2020-03-01                                         Lockdown\n",
       "1  2020-04-01                                         Lockdown\n",
       "2  2020-05-01                                         Lockdown\n",
       "3  2020-06-01  Restrict_Mass_Gatherings_and_Schools_and_Others"
      ],
      "text/html": [
       "<div>\n",
       "<style scoped>\n",
       "    .dataframe tbody tr th:only-of-type {\n",
       "        vertical-align: middle;\n",
       "    }\n",
       "\n",
       "    .dataframe tbody tr th {\n",
       "        vertical-align: top;\n",
       "    }\n",
       "\n",
       "    .dataframe thead th {\n",
       "        text-align: right;\n",
       "    }\n",
       "</style>\n",
       "<table border=\"1\" class=\"dataframe\">\n",
       "  <thead>\n",
       "    <tr style=\"text-align: right;\">\n",
       "      <th></th>\n",
       "      <th>month_of</th>\n",
       "      <th>dominant_policy</th>\n",
       "    </tr>\n",
       "  </thead>\n",
       "  <tbody>\n",
       "    <tr>\n",
       "      <th>0</th>\n",
       "      <td>2020-03-01</td>\n",
       "      <td>Lockdown</td>\n",
       "    </tr>\n",
       "    <tr>\n",
       "      <th>1</th>\n",
       "      <td>2020-04-01</td>\n",
       "      <td>Lockdown</td>\n",
       "    </tr>\n",
       "    <tr>\n",
       "      <th>2</th>\n",
       "      <td>2020-05-01</td>\n",
       "      <td>Lockdown</td>\n",
       "    </tr>\n",
       "    <tr>\n",
       "      <th>3</th>\n",
       "      <td>2020-06-01</td>\n",
       "      <td>Restrict_Mass_Gatherings_and_Schools_and_Others</td>\n",
       "    </tr>\n",
       "  </tbody>\n",
       "</table>\n",
       "</div>"
      ]
     },
     "metadata": {},
     "execution_count": 6
    }
   ],
   "metadata": {}
  },
  {
   "cell_type": "code",
   "execution_count": 7,
   "source": [
    "from pandemic_functions.pandemic_params import default_dict_normalized_policy_gamma"
   ],
   "outputs": [],
   "metadata": {}
  },
  {
   "cell_type": "markdown",
   "source": [
    "## Calculating GDP Impact"
   ],
   "metadata": {}
  },
  {
   "cell_type": "code",
   "execution_count": 8,
   "source": [
    "gdp_impact = pd.read_csv(\"cost_functions/economic_cost/economic_data/gdp/ES.csv\")"
   ],
   "outputs": [],
   "metadata": {}
  },
  {
   "cell_type": "code",
   "execution_count": 9,
   "source": [
    "gdp_impact[\"date\"]=[datetime(int(r.year), int(r.month), 1).date() for _, r in gdp_impact.iterrows()]"
   ],
   "outputs": [],
   "metadata": {}
  },
  {
   "cell_type": "code",
   "execution_count": 10,
   "source": [
    "df = pd.merge(gdp_impact, dominant_policy_df, how=\"left\", left_on=\"date\", right_on=\"month_of\")"
   ],
   "outputs": [],
   "metadata": {}
  },
  {
   "cell_type": "code",
   "execution_count": 11,
   "source": [
    "df"
   ],
   "outputs": [
    {
     "output_type": "execute_result",
     "data": {
      "text/plain": [
       "    year  month     c    i    g        date    month_of  \\\n",
       "0   2020      1   0.0  0.0  1.0  2020-01-01         NaN   \n",
       "1   2020      2   0.0  0.0  1.0  2020-02-01         NaN   \n",
       "2   2020      3  -9.9 -2.1  1.0  2020-03-01  2020-03-01   \n",
       "3   2020      4 -13.9 -5.1  0.8  2020-04-01  2020-04-01   \n",
       "4   2020      5 -13.9 -5.1  0.8  2020-05-01  2020-05-01   \n",
       "5   2020      6 -13.9 -5.1  0.8  2020-06-01  2020-06-01   \n",
       "6   2020      7  -4.5 -1.8  0.9  2020-07-01         NaN   \n",
       "7   2020      8  -4.5 -1.8  0.9  2020-08-01         NaN   \n",
       "8   2020      9  -4.5 -1.8  0.9  2020-09-01         NaN   \n",
       "9   2020     10  -6.8 -2.1  1.4  2020-10-01         NaN   \n",
       "10  2020     11  -6.8 -2.1  1.4  2020-11-01         NaN   \n",
       "11  2020     12  -6.8 -2.1  1.4  2020-12-01         NaN   \n",
       "\n",
       "                                    dominant_policy  \n",
       "0                                               NaN  \n",
       "1                                               NaN  \n",
       "2                                          Lockdown  \n",
       "3                                          Lockdown  \n",
       "4                                          Lockdown  \n",
       "5   Restrict_Mass_Gatherings_and_Schools_and_Others  \n",
       "6                                               NaN  \n",
       "7                                               NaN  \n",
       "8                                               NaN  \n",
       "9                                               NaN  \n",
       "10                                              NaN  \n",
       "11                                              NaN  "
      ],
      "text/html": [
       "<div>\n",
       "<style scoped>\n",
       "    .dataframe tbody tr th:only-of-type {\n",
       "        vertical-align: middle;\n",
       "    }\n",
       "\n",
       "    .dataframe tbody tr th {\n",
       "        vertical-align: top;\n",
       "    }\n",
       "\n",
       "    .dataframe thead th {\n",
       "        text-align: right;\n",
       "    }\n",
       "</style>\n",
       "<table border=\"1\" class=\"dataframe\">\n",
       "  <thead>\n",
       "    <tr style=\"text-align: right;\">\n",
       "      <th></th>\n",
       "      <th>year</th>\n",
       "      <th>month</th>\n",
       "      <th>c</th>\n",
       "      <th>i</th>\n",
       "      <th>g</th>\n",
       "      <th>date</th>\n",
       "      <th>month_of</th>\n",
       "      <th>dominant_policy</th>\n",
       "    </tr>\n",
       "  </thead>\n",
       "  <tbody>\n",
       "    <tr>\n",
       "      <th>0</th>\n",
       "      <td>2020</td>\n",
       "      <td>1</td>\n",
       "      <td>0.0</td>\n",
       "      <td>0.0</td>\n",
       "      <td>1.0</td>\n",
       "      <td>2020-01-01</td>\n",
       "      <td>NaN</td>\n",
       "      <td>NaN</td>\n",
       "    </tr>\n",
       "    <tr>\n",
       "      <th>1</th>\n",
       "      <td>2020</td>\n",
       "      <td>2</td>\n",
       "      <td>0.0</td>\n",
       "      <td>0.0</td>\n",
       "      <td>1.0</td>\n",
       "      <td>2020-02-01</td>\n",
       "      <td>NaN</td>\n",
       "      <td>NaN</td>\n",
       "    </tr>\n",
       "    <tr>\n",
       "      <th>2</th>\n",
       "      <td>2020</td>\n",
       "      <td>3</td>\n",
       "      <td>-9.9</td>\n",
       "      <td>-2.1</td>\n",
       "      <td>1.0</td>\n",
       "      <td>2020-03-01</td>\n",
       "      <td>2020-03-01</td>\n",
       "      <td>Lockdown</td>\n",
       "    </tr>\n",
       "    <tr>\n",
       "      <th>3</th>\n",
       "      <td>2020</td>\n",
       "      <td>4</td>\n",
       "      <td>-13.9</td>\n",
       "      <td>-5.1</td>\n",
       "      <td>0.8</td>\n",
       "      <td>2020-04-01</td>\n",
       "      <td>2020-04-01</td>\n",
       "      <td>Lockdown</td>\n",
       "    </tr>\n",
       "    <tr>\n",
       "      <th>4</th>\n",
       "      <td>2020</td>\n",
       "      <td>5</td>\n",
       "      <td>-13.9</td>\n",
       "      <td>-5.1</td>\n",
       "      <td>0.8</td>\n",
       "      <td>2020-05-01</td>\n",
       "      <td>2020-05-01</td>\n",
       "      <td>Lockdown</td>\n",
       "    </tr>\n",
       "    <tr>\n",
       "      <th>5</th>\n",
       "      <td>2020</td>\n",
       "      <td>6</td>\n",
       "      <td>-13.9</td>\n",
       "      <td>-5.1</td>\n",
       "      <td>0.8</td>\n",
       "      <td>2020-06-01</td>\n",
       "      <td>2020-06-01</td>\n",
       "      <td>Restrict_Mass_Gatherings_and_Schools_and_Others</td>\n",
       "    </tr>\n",
       "    <tr>\n",
       "      <th>6</th>\n",
       "      <td>2020</td>\n",
       "      <td>7</td>\n",
       "      <td>-4.5</td>\n",
       "      <td>-1.8</td>\n",
       "      <td>0.9</td>\n",
       "      <td>2020-07-01</td>\n",
       "      <td>NaN</td>\n",
       "      <td>NaN</td>\n",
       "    </tr>\n",
       "    <tr>\n",
       "      <th>7</th>\n",
       "      <td>2020</td>\n",
       "      <td>8</td>\n",
       "      <td>-4.5</td>\n",
       "      <td>-1.8</td>\n",
       "      <td>0.9</td>\n",
       "      <td>2020-08-01</td>\n",
       "      <td>NaN</td>\n",
       "      <td>NaN</td>\n",
       "    </tr>\n",
       "    <tr>\n",
       "      <th>8</th>\n",
       "      <td>2020</td>\n",
       "      <td>9</td>\n",
       "      <td>-4.5</td>\n",
       "      <td>-1.8</td>\n",
       "      <td>0.9</td>\n",
       "      <td>2020-09-01</td>\n",
       "      <td>NaN</td>\n",
       "      <td>NaN</td>\n",
       "    </tr>\n",
       "    <tr>\n",
       "      <th>9</th>\n",
       "      <td>2020</td>\n",
       "      <td>10</td>\n",
       "      <td>-6.8</td>\n",
       "      <td>-2.1</td>\n",
       "      <td>1.4</td>\n",
       "      <td>2020-10-01</td>\n",
       "      <td>NaN</td>\n",
       "      <td>NaN</td>\n",
       "    </tr>\n",
       "    <tr>\n",
       "      <th>10</th>\n",
       "      <td>2020</td>\n",
       "      <td>11</td>\n",
       "      <td>-6.8</td>\n",
       "      <td>-2.1</td>\n",
       "      <td>1.4</td>\n",
       "      <td>2020-11-01</td>\n",
       "      <td>NaN</td>\n",
       "      <td>NaN</td>\n",
       "    </tr>\n",
       "    <tr>\n",
       "      <th>11</th>\n",
       "      <td>2020</td>\n",
       "      <td>12</td>\n",
       "      <td>-6.8</td>\n",
       "      <td>-2.1</td>\n",
       "      <td>1.4</td>\n",
       "      <td>2020-12-01</td>\n",
       "      <td>NaN</td>\n",
       "      <td>NaN</td>\n",
       "    </tr>\n",
       "  </tbody>\n",
       "</table>\n",
       "</div>"
      ]
     },
     "metadata": {},
     "execution_count": 11
    }
   ],
   "metadata": {}
  },
  {
   "cell_type": "code",
   "execution_count": 12,
   "source": [
    "df[\"GDP\"] = df.c + df.i - df.g\n",
    "df.dropna(subset=['dominant_policy'], inplace=True)"
   ],
   "outputs": [],
   "metadata": {}
  },
  {
   "cell_type": "code",
   "execution_count": 13,
   "source": [
    "policy_gamma_df = pd.DataFrame.from_dict(default_dict_normalized_policy_gamma, orient='index')\n",
    "policy_gamma_df.columns = ['gamma']\n",
    "policy_gamma_df"
   ],
   "outputs": [
    {
     "output_type": "execute_result",
     "data": {
      "text/plain": [
       "                                                    gamma\n",
       "No_Measure                                          1.000\n",
       "Restrict_Mass_Gatherings                            0.873\n",
       "Authorize_Schools_but_Restrict_Mass_Gatherings_...  0.794\n",
       "Mass_Gatherings_Authorized_But_Others_Restricted    0.668\n",
       "Restrict_Mass_Gatherings_and_Schools                0.479\n",
       "Restrict_Mass_Gatherings_and_Schools_and_Others     0.423\n",
       "Lockdown                                            0.239"
      ],
      "text/html": [
       "<div>\n",
       "<style scoped>\n",
       "    .dataframe tbody tr th:only-of-type {\n",
       "        vertical-align: middle;\n",
       "    }\n",
       "\n",
       "    .dataframe tbody tr th {\n",
       "        vertical-align: top;\n",
       "    }\n",
       "\n",
       "    .dataframe thead th {\n",
       "        text-align: right;\n",
       "    }\n",
       "</style>\n",
       "<table border=\"1\" class=\"dataframe\">\n",
       "  <thead>\n",
       "    <tr style=\"text-align: right;\">\n",
       "      <th></th>\n",
       "      <th>gamma</th>\n",
       "    </tr>\n",
       "  </thead>\n",
       "  <tbody>\n",
       "    <tr>\n",
       "      <th>No_Measure</th>\n",
       "      <td>1.000</td>\n",
       "    </tr>\n",
       "    <tr>\n",
       "      <th>Restrict_Mass_Gatherings</th>\n",
       "      <td>0.873</td>\n",
       "    </tr>\n",
       "    <tr>\n",
       "      <th>Authorize_Schools_but_Restrict_Mass_Gatherings_and_Others</th>\n",
       "      <td>0.794</td>\n",
       "    </tr>\n",
       "    <tr>\n",
       "      <th>Mass_Gatherings_Authorized_But_Others_Restricted</th>\n",
       "      <td>0.668</td>\n",
       "    </tr>\n",
       "    <tr>\n",
       "      <th>Restrict_Mass_Gatherings_and_Schools</th>\n",
       "      <td>0.479</td>\n",
       "    </tr>\n",
       "    <tr>\n",
       "      <th>Restrict_Mass_Gatherings_and_Schools_and_Others</th>\n",
       "      <td>0.423</td>\n",
       "    </tr>\n",
       "    <tr>\n",
       "      <th>Lockdown</th>\n",
       "      <td>0.239</td>\n",
       "    </tr>\n",
       "  </tbody>\n",
       "</table>\n",
       "</div>"
      ]
     },
     "metadata": {},
     "execution_count": 13
    }
   ],
   "metadata": {}
  },
  {
   "cell_type": "code",
   "execution_count": 18,
   "source": [
    "mean_GDP_impact = df.groupby(\"dominant_policy\").agg({'c':'mean', 'i':'mean', 'g':'mean', 'GDP': 'mean'})/( TOTAL_GDP[region] / (12*1e9) )\n",
    "mean_GDP_impact = mean_GDP_impact.join(policy_gamma_df, how='left')"
   ],
   "outputs": [],
   "metadata": {}
  },
  {
   "cell_type": "code",
   "execution_count": 15,
   "source": [
    "mean_GDP_impact"
   ],
   "outputs": [
    {
     "output_type": "execute_result",
     "data": {
      "text/plain": [
       "                                                        c         i    g  \\\n",
       "dominant_policy                                                            \n",
       "Lockdown                                        -0.085198 -0.027797  0.0   \n",
       "Restrict_Mass_Gatherings_and_Schools_and_Others -0.094237 -0.034576  0.0   \n",
       "\n",
       "                                                      GDP  gamma  \n",
       "dominant_policy                                                   \n",
       "Lockdown                                        -0.112994  0.239  \n",
       "Restrict_Mass_Gatherings_and_Schools_and_Others -0.128814  0.423  "
      ],
      "text/html": [
       "<div>\n",
       "<style scoped>\n",
       "    .dataframe tbody tr th:only-of-type {\n",
       "        vertical-align: middle;\n",
       "    }\n",
       "\n",
       "    .dataframe tbody tr th {\n",
       "        vertical-align: top;\n",
       "    }\n",
       "\n",
       "    .dataframe thead th {\n",
       "        text-align: right;\n",
       "    }\n",
       "</style>\n",
       "<table border=\"1\" class=\"dataframe\">\n",
       "  <thead>\n",
       "    <tr style=\"text-align: right;\">\n",
       "      <th></th>\n",
       "      <th>c</th>\n",
       "      <th>i</th>\n",
       "      <th>g</th>\n",
       "      <th>GDP</th>\n",
       "      <th>gamma</th>\n",
       "    </tr>\n",
       "    <tr>\n",
       "      <th>dominant_policy</th>\n",
       "      <th></th>\n",
       "      <th></th>\n",
       "      <th></th>\n",
       "      <th></th>\n",
       "      <th></th>\n",
       "    </tr>\n",
       "  </thead>\n",
       "  <tbody>\n",
       "    <tr>\n",
       "      <th>Lockdown</th>\n",
       "      <td>-0.085198</td>\n",
       "      <td>-0.027797</td>\n",
       "      <td>0.0</td>\n",
       "      <td>-0.112994</td>\n",
       "      <td>0.239</td>\n",
       "    </tr>\n",
       "    <tr>\n",
       "      <th>Restrict_Mass_Gatherings_and_Schools_and_Others</th>\n",
       "      <td>-0.094237</td>\n",
       "      <td>-0.034576</td>\n",
       "      <td>0.0</td>\n",
       "      <td>-0.128814</td>\n",
       "      <td>0.423</td>\n",
       "    </tr>\n",
       "  </tbody>\n",
       "</table>\n",
       "</div>"
      ]
     },
     "metadata": {},
     "execution_count": 15
    }
   ],
   "metadata": {}
  },
  {
   "cell_type": "code",
   "execution_count": 19,
   "source": [
    "from sklearn.linear_model import LinearRegression\n",
    "\n",
    "x = np.array(mean_GDP_impact.gamma.to_list())\n",
    "x = 1-x # reversing gamma to make the line pass through 0 for No Measure\n",
    "y = np.array(mean_GDP_impact.GDP.to_list())\n",
    "ind = np.array(mean_GDP_impact.index.to_list())"
   ],
   "outputs": [],
   "metadata": {}
  },
  {
   "cell_type": "code",
   "execution_count": 20,
   "source": [
    "model = LinearRegression(fit_intercept=False).fit(x.reshape(-1,1), y)\n",
    "m = model.coef_[0]\n",
    "m"
   ],
   "outputs": [
    {
     "output_type": "execute_result",
     "data": {
      "text/plain": [
       "-0.2617428543184304"
      ]
     },
     "metadata": {},
     "execution_count": 20
    }
   ],
   "metadata": {}
  },
  {
   "cell_type": "code",
   "execution_count": 21,
   "source": [
    "policy_gamma_df[\"pred_gdp_impact\"] = [m*(1-g) for g in policy_gamma_df[\"gamma\"]]"
   ],
   "outputs": [],
   "metadata": {}
  },
  {
   "cell_type": "code",
   "execution_count": 22,
   "source": [
    "policy_gamma_df"
   ],
   "outputs": [
    {
     "output_type": "execute_result",
     "data": {
      "text/plain": [
       "                                                    gamma  pred_gdp_impact\n",
       "No_Measure                                          1.000        -0.000000\n",
       "Restrict_Mass_Gatherings                            0.873        -0.033241\n",
       "Authorize_Schools_but_Restrict_Mass_Gatherings_...  0.794        -0.053919\n",
       "Mass_Gatherings_Authorized_But_Others_Restricted    0.668        -0.086899\n",
       "Restrict_Mass_Gatherings_and_Schools                0.479        -0.136368\n",
       "Restrict_Mass_Gatherings_and_Schools_and_Others     0.423        -0.151026\n",
       "Lockdown                                            0.239        -0.199186"
      ],
      "text/html": [
       "<div>\n",
       "<style scoped>\n",
       "    .dataframe tbody tr th:only-of-type {\n",
       "        vertical-align: middle;\n",
       "    }\n",
       "\n",
       "    .dataframe tbody tr th {\n",
       "        vertical-align: top;\n",
       "    }\n",
       "\n",
       "    .dataframe thead th {\n",
       "        text-align: right;\n",
       "    }\n",
       "</style>\n",
       "<table border=\"1\" class=\"dataframe\">\n",
       "  <thead>\n",
       "    <tr style=\"text-align: right;\">\n",
       "      <th></th>\n",
       "      <th>gamma</th>\n",
       "      <th>pred_gdp_impact</th>\n",
       "    </tr>\n",
       "  </thead>\n",
       "  <tbody>\n",
       "    <tr>\n",
       "      <th>No_Measure</th>\n",
       "      <td>1.000</td>\n",
       "      <td>-0.000000</td>\n",
       "    </tr>\n",
       "    <tr>\n",
       "      <th>Restrict_Mass_Gatherings</th>\n",
       "      <td>0.873</td>\n",
       "      <td>-0.033241</td>\n",
       "    </tr>\n",
       "    <tr>\n",
       "      <th>Authorize_Schools_but_Restrict_Mass_Gatherings_and_Others</th>\n",
       "      <td>0.794</td>\n",
       "      <td>-0.053919</td>\n",
       "    </tr>\n",
       "    <tr>\n",
       "      <th>Mass_Gatherings_Authorized_But_Others_Restricted</th>\n",
       "      <td>0.668</td>\n",
       "      <td>-0.086899</td>\n",
       "    </tr>\n",
       "    <tr>\n",
       "      <th>Restrict_Mass_Gatherings_and_Schools</th>\n",
       "      <td>0.479</td>\n",
       "      <td>-0.136368</td>\n",
       "    </tr>\n",
       "    <tr>\n",
       "      <th>Restrict_Mass_Gatherings_and_Schools_and_Others</th>\n",
       "      <td>0.423</td>\n",
       "      <td>-0.151026</td>\n",
       "    </tr>\n",
       "    <tr>\n",
       "      <th>Lockdown</th>\n",
       "      <td>0.239</td>\n",
       "      <td>-0.199186</td>\n",
       "    </tr>\n",
       "  </tbody>\n",
       "</table>\n",
       "</div>"
      ]
     },
     "metadata": {},
     "execution_count": 22
    }
   ],
   "metadata": {}
  },
  {
   "cell_type": "markdown",
   "source": [
    "## Calculating Employment Impact"
   ],
   "metadata": {}
  },
  {
   "cell_type": "code",
   "execution_count": 20,
   "source": [
    "emp_impact = pd.read_csv(\"cost_functions/economic_cost/economic_data/unemployment/ES.csv\")"
   ],
   "outputs": [],
   "metadata": {}
  },
  {
   "cell_type": "code",
   "execution_count": 21,
   "source": [
    "emp_impact[\"date\"]=[datetime(int(r.year), int(r.month), 1).date() for _, r in emp_impact.iterrows()]"
   ],
   "outputs": [],
   "metadata": {}
  },
  {
   "cell_type": "code",
   "execution_count": 22,
   "source": [
    "df = pd.merge(emp_impact, dominant_policy_df, how=\"left\", left_on=\"date\", right_on=\"month_of\")"
   ],
   "outputs": [],
   "metadata": {}
  },
  {
   "cell_type": "code",
   "execution_count": 23,
   "source": [
    "mean_emp_impact = df.groupby(\"dominant_policy\").agg({'unemployment_gain':'mean'})\n",
    "mean_emp_impact = mean_emp_impact.join(policy_gamma_df, how='left')"
   ],
   "outputs": [],
   "metadata": {}
  },
  {
   "cell_type": "code",
   "execution_count": 24,
   "source": [
    "mean_emp_impact"
   ],
   "outputs": [
    {
     "output_type": "execute_result",
     "data": {
      "text/plain": [
       "                                                 unemployment_gain  gamma  \\\n",
       "dominant_policy                                                             \n",
       "Lockdown                                                       1.4  0.239   \n",
       "Restrict_Mass_Gatherings_and_Schools_and_Others                2.4  0.423   \n",
       "\n",
       "                                                 pred_gdp_impact  \n",
       "dominant_policy                                                   \n",
       "Lockdown                                               -0.133764  \n",
       "Restrict_Mass_Gatherings_and_Schools_and_Others        -0.101421  "
      ],
      "text/html": [
       "<div>\n",
       "<style scoped>\n",
       "    .dataframe tbody tr th:only-of-type {\n",
       "        vertical-align: middle;\n",
       "    }\n",
       "\n",
       "    .dataframe tbody tr th {\n",
       "        vertical-align: top;\n",
       "    }\n",
       "\n",
       "    .dataframe thead th {\n",
       "        text-align: right;\n",
       "    }\n",
       "</style>\n",
       "<table border=\"1\" class=\"dataframe\">\n",
       "  <thead>\n",
       "    <tr style=\"text-align: right;\">\n",
       "      <th></th>\n",
       "      <th>unemployment_gain</th>\n",
       "      <th>gamma</th>\n",
       "      <th>pred_gdp_impact</th>\n",
       "    </tr>\n",
       "    <tr>\n",
       "      <th>dominant_policy</th>\n",
       "      <th></th>\n",
       "      <th></th>\n",
       "      <th></th>\n",
       "    </tr>\n",
       "  </thead>\n",
       "  <tbody>\n",
       "    <tr>\n",
       "      <th>Lockdown</th>\n",
       "      <td>1.4</td>\n",
       "      <td>0.239</td>\n",
       "      <td>-0.133764</td>\n",
       "    </tr>\n",
       "    <tr>\n",
       "      <th>Restrict_Mass_Gatherings_and_Schools_and_Others</th>\n",
       "      <td>2.4</td>\n",
       "      <td>0.423</td>\n",
       "      <td>-0.101421</td>\n",
       "    </tr>\n",
       "  </tbody>\n",
       "</table>\n",
       "</div>"
      ]
     },
     "metadata": {},
     "execution_count": 24
    }
   ],
   "metadata": {}
  },
  {
   "cell_type": "code",
   "execution_count": 25,
   "source": [
    "x = np.array(mean_emp_impact.gamma.to_list())\n",
    "x = 1-x # reversing gamma to make the line pass through 0 for No Measure\n",
    "y = np.array(mean_emp_impact.unemployment_gain.to_list())\n",
    "ind = np.array(mean_emp_impact.index.to_list())"
   ],
   "outputs": [],
   "metadata": {}
  },
  {
   "cell_type": "code",
   "execution_count": 26,
   "source": [
    "model_emp = LinearRegression(fit_intercept=False).fit(x.reshape(-1,1), y)\n",
    "m_emp = model_emp.coef_[0]\n",
    "m_emp"
   ],
   "outputs": [
    {
     "output_type": "execute_result",
     "data": {
      "text/plain": [
       "2.6864755221753196"
      ]
     },
     "metadata": {},
     "execution_count": 26
    }
   ],
   "metadata": {}
  },
  {
   "cell_type": "code",
   "execution_count": 27,
   "source": [
    "policy_gamma_df[\"pred_unemployment_gain\"] = [m_emp*(1-g) for g in policy_gamma_df[\"gamma\"]]"
   ],
   "outputs": [],
   "metadata": {}
  },
  {
   "cell_type": "code",
   "execution_count": 28,
   "source": [
    "policy_gamma_df"
   ],
   "outputs": [
    {
     "output_type": "execute_result",
     "data": {
      "text/plain": [
       "                                                    gamma  pred_gdp_impact  \\\n",
       "No_Measure                                          1.000        -0.000000   \n",
       "Restrict_Mass_Gatherings                            0.873        -0.022323   \n",
       "Authorize_Schools_but_Restrict_Mass_Gatherings_...  0.794        -0.036209   \n",
       "Mass_Gatherings_Authorized_But_Others_Restricted    0.668        -0.058357   \n",
       "Restrict_Mass_Gatherings_and_Schools                0.479        -0.091578   \n",
       "Restrict_Mass_Gatherings_and_Schools_and_Others     0.423        -0.101421   \n",
       "Lockdown                                            0.239        -0.133764   \n",
       "\n",
       "                                                    pred_unemployment_gain  \n",
       "No_Measure                                                        0.000000  \n",
       "Restrict_Mass_Gatherings                                          0.341182  \n",
       "Authorize_Schools_but_Restrict_Mass_Gatherings_...                0.553414  \n",
       "Mass_Gatherings_Authorized_But_Others_Restricted                  0.891910  \n",
       "Restrict_Mass_Gatherings_and_Schools                              1.399654  \n",
       "Restrict_Mass_Gatherings_and_Schools_and_Others                   1.550096  \n",
       "Lockdown                                                          2.044408  "
      ],
      "text/html": [
       "<div>\n",
       "<style scoped>\n",
       "    .dataframe tbody tr th:only-of-type {\n",
       "        vertical-align: middle;\n",
       "    }\n",
       "\n",
       "    .dataframe tbody tr th {\n",
       "        vertical-align: top;\n",
       "    }\n",
       "\n",
       "    .dataframe thead th {\n",
       "        text-align: right;\n",
       "    }\n",
       "</style>\n",
       "<table border=\"1\" class=\"dataframe\">\n",
       "  <thead>\n",
       "    <tr style=\"text-align: right;\">\n",
       "      <th></th>\n",
       "      <th>gamma</th>\n",
       "      <th>pred_gdp_impact</th>\n",
       "      <th>pred_unemployment_gain</th>\n",
       "    </tr>\n",
       "  </thead>\n",
       "  <tbody>\n",
       "    <tr>\n",
       "      <th>No_Measure</th>\n",
       "      <td>1.000</td>\n",
       "      <td>-0.000000</td>\n",
       "      <td>0.000000</td>\n",
       "    </tr>\n",
       "    <tr>\n",
       "      <th>Restrict_Mass_Gatherings</th>\n",
       "      <td>0.873</td>\n",
       "      <td>-0.022323</td>\n",
       "      <td>0.341182</td>\n",
       "    </tr>\n",
       "    <tr>\n",
       "      <th>Authorize_Schools_but_Restrict_Mass_Gatherings_and_Others</th>\n",
       "      <td>0.794</td>\n",
       "      <td>-0.036209</td>\n",
       "      <td>0.553414</td>\n",
       "    </tr>\n",
       "    <tr>\n",
       "      <th>Mass_Gatherings_Authorized_But_Others_Restricted</th>\n",
       "      <td>0.668</td>\n",
       "      <td>-0.058357</td>\n",
       "      <td>0.891910</td>\n",
       "    </tr>\n",
       "    <tr>\n",
       "      <th>Restrict_Mass_Gatherings_and_Schools</th>\n",
       "      <td>0.479</td>\n",
       "      <td>-0.091578</td>\n",
       "      <td>1.399654</td>\n",
       "    </tr>\n",
       "    <tr>\n",
       "      <th>Restrict_Mass_Gatherings_and_Schools_and_Others</th>\n",
       "      <td>0.423</td>\n",
       "      <td>-0.101421</td>\n",
       "      <td>1.550096</td>\n",
       "    </tr>\n",
       "    <tr>\n",
       "      <th>Lockdown</th>\n",
       "      <td>0.239</td>\n",
       "      <td>-0.133764</td>\n",
       "      <td>2.044408</td>\n",
       "    </tr>\n",
       "  </tbody>\n",
       "</table>\n",
       "</div>"
      ]
     },
     "metadata": {},
     "execution_count": 28
    }
   ],
   "metadata": {}
  },
  {
   "cell_type": "code",
   "execution_count": null,
   "source": [],
   "outputs": [],
   "metadata": {}
  },
  {
   "cell_type": "code",
   "execution_count": null,
   "source": [],
   "outputs": [],
   "metadata": {}
  }
 ],
 "metadata": {
  "interpreter": {
   "hash": "bcae9fa33c0b8b7ffb5e5f839154ee5123f3d8da27254582c09d65579e150ffa"
  },
  "kernelspec": {
   "name": "python3",
   "display_name": "Python 3.8.3 64-bit ('base': conda)"
  },
  "language_info": {
   "codemirror_mode": {
    "name": "ipython",
    "version": 3
   },
   "file_extension": ".py",
   "mimetype": "text/x-python",
   "name": "python",
   "nbconvert_exporter": "python",
   "pygments_lexer": "ipython3",
   "version": "3.8.3"
  },
  "orig_nbformat": 2
 },
 "nbformat": 4,
 "nbformat_minor": 2
}