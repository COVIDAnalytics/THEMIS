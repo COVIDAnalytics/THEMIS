{
 "cells": [
  {
   "cell_type": "markdown",
   "metadata": {},
   "source": [
    "# Monthly Dominant Policies and Policy GDP & Unemployment Impact"
   ]
  },
  {
   "cell_type": "markdown",
   "metadata": {},
   "source": [
    "This notebook shows the calculation of the impact of each policy on GDP and Employment rate for every region. The notebook uses the functions in `utils/cost_utils` and more details about the calculations can be found there."
   ]
  },
  {
   "cell_type": "code",
   "execution_count": 1,
   "metadata": {},
   "outputs": [],
   "source": [
    "import numpy as np\n",
    "import pandas as pd"
   ]
  },
  {
   "cell_type": "code",
   "execution_count": 2,
   "metadata": {},
   "outputs": [],
   "source": [
    "import os\n",
    "os.chdir(\"../\")"
   ]
  },
  {
   "cell_type": "code",
   "execution_count": 3,
   "metadata": {},
   "outputs": [
    {
     "name": "stderr",
     "output_type": "stream",
     "text": [
      "/Users/saksham/opt/anaconda3/lib/python3.8/site-packages/IPython/core/interactiveshell.py:3343: DtypeWarning: Columns (2,3,41,42) have mixed types.Specify dtype option on import or set low_memory=False.\n",
      "  exec(code_obj, self.user_global_ns, self.user_ns)\n"
     ]
    }
   ],
   "source": [
    "from utils.cost_utils import *"
   ]
  },
  {
   "cell_type": "code",
   "execution_count": 4,
   "metadata": {},
   "outputs": [
    {
     "name": "stdout",
     "output_type": "stream",
     "text": [
      "--------------------------------------------------------------------------------\n",
      "DE\n",
      "                                                    gamma  pred_gdp_impact  \\\n",
      "No_Measure                                          1.000        -0.000000   \n",
      "Restrict_Mass_Gatherings                            0.873        -0.023272   \n",
      "Authorize_Schools_but_Restrict_Mass_Gatherings_...  0.794        -0.037748   \n",
      "Mass_Gatherings_Authorized_But_Others_Restricted    0.668        -0.060837   \n",
      "Restrict_Mass_Gatherings_and_Schools                0.479        -0.095470   \n",
      "Restrict_Mass_Gatherings_and_Schools_and_Others     0.423        -0.105731   \n",
      "Lockdown                                            0.239        -0.139448   \n",
      "\n",
      "                                                    pred_unemployment_gain  \n",
      "No_Measure                                                        0.000000  \n",
      "Restrict_Mass_Gatherings                                          0.233880  \n",
      "Authorize_Schools_but_Restrict_Mass_Gatherings_...                0.379365  \n",
      "Mass_Gatherings_Authorized_But_Others_Restricted                  0.611404  \n",
      "Restrict_Mass_Gatherings_and_Schools                              0.959462  \n",
      "Restrict_Mass_Gatherings_and_Schools_and_Others                   1.062590  \n",
      "Lockdown                                                          1.401441  \n",
      "--------------------------------------------------------------------------------\n",
      "--------------------------------------------------------------------------------\n",
      "US-NY\n",
      "                                                    gamma  pred_gdp_impact  \\\n",
      "No_Measure                                          1.000        -0.000000   \n",
      "Restrict_Mass_Gatherings                            0.873        -0.021648   \n",
      "Authorize_Schools_but_Restrict_Mass_Gatherings_...  0.794        -0.035114   \n",
      "Mass_Gatherings_Authorized_But_Others_Restricted    0.668        -0.056592   \n",
      "Restrict_Mass_Gatherings_and_Schools                0.479        -0.088808   \n",
      "Restrict_Mass_Gatherings_and_Schools_and_Others     0.423        -0.098354   \n",
      "Lockdown                                            0.239        -0.129718   \n",
      "\n",
      "                                                    pred_unemployment_gain  \n",
      "No_Measure                                                        0.000000  \n",
      "Restrict_Mass_Gatherings                                          2.060796  \n",
      "Authorize_Schools_but_Restrict_Mass_Gatherings_...                3.342709  \n",
      "Mass_Gatherings_Authorized_But_Others_Restricted                  5.387279  \n",
      "Restrict_Mass_Gatherings_and_Schools                              8.454134  \n",
      "Restrict_Mass_Gatherings_and_Schools_and_Others                   9.362831  \n",
      "Lockdown                                                         12.348552  \n",
      "--------------------------------------------------------------------------------\n",
      "--------------------------------------------------------------------------------\n",
      "US-FL\n",
      "                                                    gamma  pred_gdp_impact  \\\n",
      "No_Measure                                          1.000        -0.000000   \n",
      "Restrict_Mass_Gatherings                            0.873        -0.012285   \n",
      "Authorize_Schools_but_Restrict_Mass_Gatherings_...  0.794        -0.019927   \n",
      "Mass_Gatherings_Authorized_But_Others_Restricted    0.668        -0.032115   \n",
      "Restrict_Mass_Gatherings_and_Schools                0.479        -0.050397   \n",
      "Restrict_Mass_Gatherings_and_Schools_and_Others     0.423        -0.055814   \n",
      "Lockdown                                            0.239        -0.073613   \n",
      "\n",
      "                                                    pred_unemployment_gain  \n",
      "No_Measure                                                        0.000000  \n",
      "Restrict_Mass_Gatherings                                          2.038923  \n",
      "Authorize_Schools_but_Restrict_Mass_Gatherings_...                3.307230  \n",
      "Mass_Gatherings_Authorized_But_Others_Restricted                  5.330099  \n",
      "Restrict_Mass_Gatherings_and_Schools                              8.364403  \n",
      "Restrict_Mass_Gatherings_and_Schools_and_Others                   9.263455  \n",
      "Lockdown                                                         12.217486  \n",
      "--------------------------------------------------------------------------------\n",
      "--------------------------------------------------------------------------------\n",
      "ES\n",
      "                                                    gamma  pred_gdp_impact  \\\n",
      "No_Measure                                          1.000        -0.000000   \n",
      "Restrict_Mass_Gatherings                            0.873        -0.032520   \n",
      "Authorize_Schools_but_Restrict_Mass_Gatherings_...  0.794        -0.052748   \n",
      "Mass_Gatherings_Authorized_But_Others_Restricted    0.668        -0.085012   \n",
      "Restrict_Mass_Gatherings_and_Schools                0.479        -0.133407   \n",
      "Restrict_Mass_Gatherings_and_Schools_and_Others     0.423        -0.147746   \n",
      "Lockdown                                            0.239        -0.194861   \n",
      "\n",
      "                                                    pred_unemployment_gain  \n",
      "No_Measure                                                        0.000000  \n",
      "Restrict_Mass_Gatherings                                          0.419882  \n",
      "Authorize_Schools_but_Restrict_Mass_Gatherings_...                0.681069  \n",
      "Mass_Gatherings_Authorized_But_Others_Restricted                  1.097645  \n",
      "Restrict_Mass_Gatherings_and_Schools                              1.722509  \n",
      "Restrict_Mass_Gatherings_and_Schools_and_Others                   1.907654  \n",
      "Lockdown                                                          2.515987  \n",
      "--------------------------------------------------------------------------------\n",
      "--------------------------------------------------------------------------------\n",
      "BR\n",
      "                                                    gamma  pred_gdp_impact  \\\n",
      "No_Measure                                          1.000        -0.000000   \n",
      "Restrict_Mass_Gatherings                            0.873        -0.026589   \n",
      "Authorize_Schools_but_Restrict_Mass_Gatherings_...  0.794        -0.043128   \n",
      "Mass_Gatherings_Authorized_But_Others_Restricted    0.668        -0.069508   \n",
      "Restrict_Mass_Gatherings_and_Schools                0.479        -0.109077   \n",
      "Restrict_Mass_Gatherings_and_Schools_and_Others     0.423        -0.120801   \n",
      "Lockdown                                            0.239        -0.159324   \n",
      "\n",
      "                                                    pred_unemployment_gain  \n",
      "No_Measure                                                        0.000000  \n",
      "Restrict_Mass_Gatherings                                          0.195221  \n",
      "Authorize_Schools_but_Restrict_Mass_Gatherings_...                0.316657  \n",
      "Mass_Gatherings_Authorized_But_Others_Restricted                  0.510341  \n",
      "Restrict_Mass_Gatherings_and_Schools                              0.800866  \n",
      "Restrict_Mass_Gatherings_and_Schools_and_Others                   0.886947  \n",
      "Lockdown                                                          1.169787  \n",
      "--------------------------------------------------------------------------------\n",
      "--------------------------------------------------------------------------------\n",
      "SG\n",
      "                                                    gamma  pred_gdp_impact  \\\n",
      "No_Measure                                          1.000        -0.000000   \n",
      "Restrict_Mass_Gatherings                            0.873        -0.038814   \n",
      "Authorize_Schools_but_Restrict_Mass_Gatherings_...  0.794        -0.062958   \n",
      "Mass_Gatherings_Authorized_But_Others_Restricted    0.668        -0.101466   \n",
      "Restrict_Mass_Gatherings_and_Schools                0.479        -0.159228   \n",
      "Restrict_Mass_Gatherings_and_Schools_and_Others     0.423        -0.176342   \n",
      "Lockdown                                            0.239        -0.232576   \n",
      "\n",
      "                                                    pred_unemployment_gain  \n",
      "No_Measure                                                        0.000000  \n",
      "Restrict_Mass_Gatherings                                          0.147700  \n",
      "Authorize_Schools_but_Restrict_Mass_Gatherings_...                0.239577  \n",
      "Mass_Gatherings_Authorized_But_Others_Restricted                  0.386114  \n",
      "Restrict_Mass_Gatherings_and_Schools                              0.605920  \n",
      "Restrict_Mass_Gatherings_and_Schools_and_Others                   0.671047  \n",
      "Lockdown                                                          0.885038  \n",
      "--------------------------------------------------------------------------------\n"
     ]
    }
   ],
   "source": [
    "start_date = \"2020-03-01\"\n",
    "end_date =  \"2020-07-31\"\n",
    "for region in ['DE', 'US-NY', 'US-FL', 'ES', 'BR', 'SG']:\n",
    "    print(\"-\"*80)\n",
    "    print(region)\n",
    "    dominant_policy_df = get_dominant_policy_df(start_date, end_date, region)\n",
    "    policy_gdp_impact_df = get_policy_gdp_impact(region, dominant_policy_df)\n",
    "    policy_emp_impact_df = get_policy_employment_impact(region, dominant_policy_df)\n",
    "    df = pd.merge(policy_gdp_impact_df, policy_emp_impact_df.drop(columns=[\"gamma\"]), left_index=True, right_index=True, how=\"left\")\n",
    "    print(df)\n",
    "    print(\"-\"*80)"
   ]
  },
  {
   "cell_type": "code",
   "execution_count": null,
   "metadata": {},
   "outputs": [],
   "source": []
  }
 ],
 "metadata": {
  "interpreter": {
   "hash": "bcae9fa33c0b8b7ffb5e5f839154ee5123f3d8da27254582c09d65579e150ffa"
  },
  "kernelspec": {
   "display_name": "Python 3",
   "language": "python",
   "name": "python3"
  },
  "language_info": {
   "codemirror_mode": {
    "name": "ipython",
    "version": 3
   },
   "file_extension": ".py",
   "mimetype": "text/x-python",
   "name": "python",
   "nbconvert_exporter": "python",
   "pygments_lexer": "ipython3",
   "version": "3.8.3"
  }
 },
 "nbformat": 4,
 "nbformat_minor": 2
}
