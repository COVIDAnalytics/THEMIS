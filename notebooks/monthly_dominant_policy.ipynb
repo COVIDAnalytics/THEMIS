{
 "cells": [
  {
   "cell_type": "markdown",
   "metadata": {},
   "source": [
    "# Monthly Dominant Policies and Policy GDP & Unemployment Impact"
   ]
  },
  {
   "cell_type": "markdown",
   "metadata": {},
   "source": [
    "## Find domininat policy for every for a region"
   ]
  },
  {
   "cell_type": "code",
   "execution_count": 1,
   "metadata": {},
   "outputs": [],
   "source": [
    "import numpy as np\n",
    "import pandas as pd\n",
    "from datetime import datetime\n",
    "from dateutil.relativedelta import relativedelta\n",
    "from dateparser import parse\n",
    "from copy import deepcopy"
   ]
  },
  {
   "cell_type": "code",
   "execution_count": 2,
   "metadata": {},
   "outputs": [],
   "source": [
    "import os\n",
    "os.chdir(\"../\")"
   ]
  },
  {
   "cell_type": "code",
   "execution_count": 3,
   "metadata": {},
   "outputs": [
    {
     "name": "stderr",
     "output_type": "stream",
     "text": [
      "/Users/saksham/opt/anaconda3/lib/python3.8/site-packages/IPython/core/interactiveshell.py:3263: DtypeWarning: Columns (2,3,41,42) have mixed types.Specify dtype option on import or set low_memory=False.\n",
      "  if (await self.run_code(code, result,  async_=asy)):\n"
     ]
    }
   ],
   "source": [
    "from pandemic_functions.delphi_functions.DELPHI_model_policy_scenarios import read_oxford_country_policy_data, read_policy_data_us_only, get_dominant_policy\n",
    "from pandemic_functions.pandemic_params import future_policies\n",
    "from cost_functions.economic_cost.economic_data.economic_params import TOTAL_GDP"
   ]
  },
  {
   "cell_type": "code",
   "execution_count": 4,
   "metadata": {},
   "outputs": [],
   "source": [
    "start_date = \"2020-03-01\"\n",
    "end_date =  \"2020-07-31\"\n",
    "\n",
    "region = 'BR'\n",
    "country = 'Brazil'\n",
    "province = 'None'\n",
    "\n",
    "if country == 'US':\n",
    "    policy_data = read_policy_data_us_only(province, start_date=start_date, end_date=end_date)\n",
    "else:\n",
    "    policy_data = read_oxford_country_policy_data(country=country, start_date=start_date, end_date=end_date)"
   ]
  },
  {
   "cell_type": "code",
   "execution_count": 5,
   "metadata": {},
   "outputs": [],
   "source": [
    "end_dt = parse(end_date)\n",
    "\n",
    "dt1 = parse(start_date)\n",
    "dt2 = dt1 + relativedelta(months=1, days=-1)\n",
    "\n",
    "dominant_policy_dict = {\"month_of\": [], \"dominant_policy\": []}\n",
    "\n",
    "while dt2 <= end_dt:\n",
    "    dominant_policy_dict[\"month_of\"].append(dt1.date())\n",
    "    dominant_policy_dict[\"dominant_policy\"].append(get_dominant_policy(policy_data, start_date=dt1, end_date=dt2))\n",
    "    dt1 = dt2 + relativedelta(days=1)\n",
    "    dt2 = dt1 + relativedelta(months=1, days=-1)\n",
    "\n",
    "dominant_policy_df = pd.DataFrame.from_dict(dominant_policy_dict)"
   ]
  },
  {
   "cell_type": "code",
   "execution_count": 6,
   "metadata": {},
   "outputs": [
    {
     "data": {
      "text/html": [
       "<div>\n",
       "<style scoped>\n",
       "    .dataframe tbody tr th:only-of-type {\n",
       "        vertical-align: middle;\n",
       "    }\n",
       "\n",
       "    .dataframe tbody tr th {\n",
       "        vertical-align: top;\n",
       "    }\n",
       "\n",
       "    .dataframe thead th {\n",
       "        text-align: right;\n",
       "    }\n",
       "</style>\n",
       "<table border=\"1\" class=\"dataframe\">\n",
       "  <thead>\n",
       "    <tr style=\"text-align: right;\">\n",
       "      <th></th>\n",
       "      <th>month_of</th>\n",
       "      <th>dominant_policy</th>\n",
       "    </tr>\n",
       "  </thead>\n",
       "  <tbody>\n",
       "    <tr>\n",
       "      <th>0</th>\n",
       "      <td>2020-03-01</td>\n",
       "      <td>Authorize_Schools_but_Restrict_Mass_Gatherings...</td>\n",
       "    </tr>\n",
       "    <tr>\n",
       "      <th>1</th>\n",
       "      <td>2020-04-01</td>\n",
       "      <td>Restrict_Mass_Gatherings_and_Schools_and_Others</td>\n",
       "    </tr>\n",
       "    <tr>\n",
       "      <th>2</th>\n",
       "      <td>2020-05-01</td>\n",
       "      <td>Restrict_Mass_Gatherings_and_Schools_and_Others</td>\n",
       "    </tr>\n",
       "    <tr>\n",
       "      <th>3</th>\n",
       "      <td>2020-06-01</td>\n",
       "      <td>Restrict_Mass_Gatherings_and_Schools_and_Others</td>\n",
       "    </tr>\n",
       "    <tr>\n",
       "      <th>4</th>\n",
       "      <td>2020-07-01</td>\n",
       "      <td>Restrict_Mass_Gatherings_and_Schools_and_Others</td>\n",
       "    </tr>\n",
       "  </tbody>\n",
       "</table>\n",
       "</div>"
      ],
      "text/plain": [
       "     month_of                                    dominant_policy\n",
       "0  2020-03-01  Authorize_Schools_but_Restrict_Mass_Gatherings...\n",
       "1  2020-04-01    Restrict_Mass_Gatherings_and_Schools_and_Others\n",
       "2  2020-05-01    Restrict_Mass_Gatherings_and_Schools_and_Others\n",
       "3  2020-06-01    Restrict_Mass_Gatherings_and_Schools_and_Others\n",
       "4  2020-07-01    Restrict_Mass_Gatherings_and_Schools_and_Others"
      ]
     },
     "execution_count": 6,
     "metadata": {},
     "output_type": "execute_result"
    }
   ],
   "source": [
    "dominant_policy_df"
   ]
  },
  {
   "cell_type": "code",
   "execution_count": 7,
   "metadata": {},
   "outputs": [],
   "source": [
    "from pandemic_functions.pandemic_params import default_dict_normalized_policy_gamma"
   ]
  },
  {
   "cell_type": "markdown",
   "metadata": {},
   "source": [
    "## Calculating GDP Impact"
   ]
  },
  {
   "cell_type": "code",
   "execution_count": 8,
   "metadata": {},
   "outputs": [],
   "source": [
    "gdp_impact = pd.read_csv(f\"cost_functions/economic_cost/economic_data/gdp/{region}.csv\")"
   ]
  },
  {
   "cell_type": "code",
   "execution_count": 9,
   "metadata": {},
   "outputs": [],
   "source": [
    "gdp_impact[\"date\"]=[datetime(int(r.year), int(r.month), 1).date() for _, r in gdp_impact.iterrows()]"
   ]
  },
  {
   "cell_type": "code",
   "execution_count": 10,
   "metadata": {},
   "outputs": [],
   "source": [
    "df = pd.merge(gdp_impact, dominant_policy_df, how=\"left\", left_on=\"date\", right_on=\"month_of\")"
   ]
  },
  {
   "cell_type": "code",
   "execution_count": 11,
   "metadata": {},
   "outputs": [
    {
     "data": {
      "text/html": [
       "<div>\n",
       "<style scoped>\n",
       "    .dataframe tbody tr th:only-of-type {\n",
       "        vertical-align: middle;\n",
       "    }\n",
       "\n",
       "    .dataframe tbody tr th {\n",
       "        vertical-align: top;\n",
       "    }\n",
       "\n",
       "    .dataframe thead th {\n",
       "        text-align: right;\n",
       "    }\n",
       "</style>\n",
       "<table border=\"1\" class=\"dataframe\">\n",
       "  <thead>\n",
       "    <tr style=\"text-align: right;\">\n",
       "      <th></th>\n",
       "      <th>year</th>\n",
       "      <th>month</th>\n",
       "      <th>c</th>\n",
       "      <th>i</th>\n",
       "      <th>g</th>\n",
       "      <th>date</th>\n",
       "      <th>month_of</th>\n",
       "      <th>dominant_policy</th>\n",
       "    </tr>\n",
       "  </thead>\n",
       "  <tbody>\n",
       "    <tr>\n",
       "      <th>0</th>\n",
       "      <td>2020</td>\n",
       "      <td>1</td>\n",
       "      <td>-12</td>\n",
       "      <td>0</td>\n",
       "      <td>0</td>\n",
       "      <td>2020-01-01</td>\n",
       "      <td>NaN</td>\n",
       "      <td>NaN</td>\n",
       "    </tr>\n",
       "    <tr>\n",
       "      <th>1</th>\n",
       "      <td>2020</td>\n",
       "      <td>2</td>\n",
       "      <td>-12</td>\n",
       "      <td>0</td>\n",
       "      <td>0</td>\n",
       "      <td>2020-02-01</td>\n",
       "      <td>NaN</td>\n",
       "      <td>NaN</td>\n",
       "    </tr>\n",
       "    <tr>\n",
       "      <th>2</th>\n",
       "      <td>2020</td>\n",
       "      <td>3</td>\n",
       "      <td>-12</td>\n",
       "      <td>0</td>\n",
       "      <td>0</td>\n",
       "      <td>2020-03-01</td>\n",
       "      <td>2020-03-01</td>\n",
       "      <td>Authorize_Schools_but_Restrict_Mass_Gatherings...</td>\n",
       "    </tr>\n",
       "    <tr>\n",
       "      <th>3</th>\n",
       "      <td>2020</td>\n",
       "      <td>4</td>\n",
       "      <td>-66</td>\n",
       "      <td>-21</td>\n",
       "      <td>0</td>\n",
       "      <td>2020-04-01</td>\n",
       "      <td>2020-04-01</td>\n",
       "      <td>Restrict_Mass_Gatherings_and_Schools_and_Others</td>\n",
       "    </tr>\n",
       "    <tr>\n",
       "      <th>4</th>\n",
       "      <td>2020</td>\n",
       "      <td>5</td>\n",
       "      <td>-66</td>\n",
       "      <td>-21</td>\n",
       "      <td>0</td>\n",
       "      <td>2020-05-01</td>\n",
       "      <td>2020-05-01</td>\n",
       "      <td>Restrict_Mass_Gatherings_and_Schools_and_Others</td>\n",
       "    </tr>\n",
       "    <tr>\n",
       "      <th>5</th>\n",
       "      <td>2020</td>\n",
       "      <td>6</td>\n",
       "      <td>-66</td>\n",
       "      <td>-21</td>\n",
       "      <td>0</td>\n",
       "      <td>2020-06-01</td>\n",
       "      <td>2020-06-01</td>\n",
       "      <td>Restrict_Mass_Gatherings_and_Schools_and_Others</td>\n",
       "    </tr>\n",
       "    <tr>\n",
       "      <th>6</th>\n",
       "      <td>2020</td>\n",
       "      <td>7</td>\n",
       "      <td>-41</td>\n",
       "      <td>-19</td>\n",
       "      <td>0</td>\n",
       "      <td>2020-07-01</td>\n",
       "      <td>2020-07-01</td>\n",
       "      <td>Restrict_Mass_Gatherings_and_Schools_and_Others</td>\n",
       "    </tr>\n",
       "    <tr>\n",
       "      <th>7</th>\n",
       "      <td>2020</td>\n",
       "      <td>8</td>\n",
       "      <td>-41</td>\n",
       "      <td>-19</td>\n",
       "      <td>0</td>\n",
       "      <td>2020-08-01</td>\n",
       "      <td>NaN</td>\n",
       "      <td>NaN</td>\n",
       "    </tr>\n",
       "    <tr>\n",
       "      <th>8</th>\n",
       "      <td>2020</td>\n",
       "      <td>9</td>\n",
       "      <td>-41</td>\n",
       "      <td>-19</td>\n",
       "      <td>0</td>\n",
       "      <td>2020-09-01</td>\n",
       "      <td>NaN</td>\n",
       "      <td>NaN</td>\n",
       "    </tr>\n",
       "    <tr>\n",
       "      <th>9</th>\n",
       "      <td>2020</td>\n",
       "      <td>10</td>\n",
       "      <td>-17</td>\n",
       "      <td>0</td>\n",
       "      <td>0</td>\n",
       "      <td>2020-10-01</td>\n",
       "      <td>NaN</td>\n",
       "      <td>NaN</td>\n",
       "    </tr>\n",
       "    <tr>\n",
       "      <th>10</th>\n",
       "      <td>2020</td>\n",
       "      <td>11</td>\n",
       "      <td>-17</td>\n",
       "      <td>0</td>\n",
       "      <td>0</td>\n",
       "      <td>2020-11-01</td>\n",
       "      <td>NaN</td>\n",
       "      <td>NaN</td>\n",
       "    </tr>\n",
       "    <tr>\n",
       "      <th>11</th>\n",
       "      <td>2020</td>\n",
       "      <td>12</td>\n",
       "      <td>-17</td>\n",
       "      <td>0</td>\n",
       "      <td>0</td>\n",
       "      <td>2020-12-01</td>\n",
       "      <td>NaN</td>\n",
       "      <td>NaN</td>\n",
       "    </tr>\n",
       "    <tr>\n",
       "      <th>12</th>\n",
       "      <td>2021</td>\n",
       "      <td>1</td>\n",
       "      <td>0</td>\n",
       "      <td>0</td>\n",
       "      <td>0</td>\n",
       "      <td>2021-01-01</td>\n",
       "      <td>NaN</td>\n",
       "      <td>NaN</td>\n",
       "    </tr>\n",
       "  </tbody>\n",
       "</table>\n",
       "</div>"
      ],
      "text/plain": [
       "    year  month   c   i  g        date    month_of  \\\n",
       "0   2020      1 -12   0  0  2020-01-01         NaN   \n",
       "1   2020      2 -12   0  0  2020-02-01         NaN   \n",
       "2   2020      3 -12   0  0  2020-03-01  2020-03-01   \n",
       "3   2020      4 -66 -21  0  2020-04-01  2020-04-01   \n",
       "4   2020      5 -66 -21  0  2020-05-01  2020-05-01   \n",
       "5   2020      6 -66 -21  0  2020-06-01  2020-06-01   \n",
       "6   2020      7 -41 -19  0  2020-07-01  2020-07-01   \n",
       "7   2020      8 -41 -19  0  2020-08-01         NaN   \n",
       "8   2020      9 -41 -19  0  2020-09-01         NaN   \n",
       "9   2020     10 -17   0  0  2020-10-01         NaN   \n",
       "10  2020     11 -17   0  0  2020-11-01         NaN   \n",
       "11  2020     12 -17   0  0  2020-12-01         NaN   \n",
       "12  2021      1   0   0  0  2021-01-01         NaN   \n",
       "\n",
       "                                      dominant_policy  \n",
       "0                                                 NaN  \n",
       "1                                                 NaN  \n",
       "2   Authorize_Schools_but_Restrict_Mass_Gatherings...  \n",
       "3     Restrict_Mass_Gatherings_and_Schools_and_Others  \n",
       "4     Restrict_Mass_Gatherings_and_Schools_and_Others  \n",
       "5     Restrict_Mass_Gatherings_and_Schools_and_Others  \n",
       "6     Restrict_Mass_Gatherings_and_Schools_and_Others  \n",
       "7                                                 NaN  \n",
       "8                                                 NaN  \n",
       "9                                                 NaN  \n",
       "10                                                NaN  \n",
       "11                                                NaN  \n",
       "12                                                NaN  "
      ]
     },
     "execution_count": 11,
     "metadata": {},
     "output_type": "execute_result"
    }
   ],
   "source": [
    "df"
   ]
  },
  {
   "cell_type": "code",
   "execution_count": 12,
   "metadata": {},
   "outputs": [],
   "source": [
    "df[\"GDP\"] = df.c + df.i - df.g\n",
    "df.dropna(subset=['dominant_policy'], inplace=True)"
   ]
  },
  {
   "cell_type": "code",
   "execution_count": 13,
   "metadata": {},
   "outputs": [
    {
     "data": {
      "text/html": [
       "<div>\n",
       "<style scoped>\n",
       "    .dataframe tbody tr th:only-of-type {\n",
       "        vertical-align: middle;\n",
       "    }\n",
       "\n",
       "    .dataframe tbody tr th {\n",
       "        vertical-align: top;\n",
       "    }\n",
       "\n",
       "    .dataframe thead th {\n",
       "        text-align: right;\n",
       "    }\n",
       "</style>\n",
       "<table border=\"1\" class=\"dataframe\">\n",
       "  <thead>\n",
       "    <tr style=\"text-align: right;\">\n",
       "      <th></th>\n",
       "      <th>gamma</th>\n",
       "    </tr>\n",
       "  </thead>\n",
       "  <tbody>\n",
       "    <tr>\n",
       "      <th>No_Measure</th>\n",
       "      <td>1.000</td>\n",
       "    </tr>\n",
       "    <tr>\n",
       "      <th>Restrict_Mass_Gatherings</th>\n",
       "      <td>0.873</td>\n",
       "    </tr>\n",
       "    <tr>\n",
       "      <th>Authorize_Schools_but_Restrict_Mass_Gatherings_and_Others</th>\n",
       "      <td>0.794</td>\n",
       "    </tr>\n",
       "    <tr>\n",
       "      <th>Mass_Gatherings_Authorized_But_Others_Restricted</th>\n",
       "      <td>0.668</td>\n",
       "    </tr>\n",
       "    <tr>\n",
       "      <th>Restrict_Mass_Gatherings_and_Schools</th>\n",
       "      <td>0.479</td>\n",
       "    </tr>\n",
       "    <tr>\n",
       "      <th>Restrict_Mass_Gatherings_and_Schools_and_Others</th>\n",
       "      <td>0.423</td>\n",
       "    </tr>\n",
       "    <tr>\n",
       "      <th>Lockdown</th>\n",
       "      <td>0.239</td>\n",
       "    </tr>\n",
       "  </tbody>\n",
       "</table>\n",
       "</div>"
      ],
      "text/plain": [
       "                                                    gamma\n",
       "No_Measure                                          1.000\n",
       "Restrict_Mass_Gatherings                            0.873\n",
       "Authorize_Schools_but_Restrict_Mass_Gatherings_...  0.794\n",
       "Mass_Gatherings_Authorized_But_Others_Restricted    0.668\n",
       "Restrict_Mass_Gatherings_and_Schools                0.479\n",
       "Restrict_Mass_Gatherings_and_Schools_and_Others     0.423\n",
       "Lockdown                                            0.239"
      ]
     },
     "execution_count": 13,
     "metadata": {},
     "output_type": "execute_result"
    }
   ],
   "source": [
    "policy_gamma_df = pd.DataFrame.from_dict(default_dict_normalized_policy_gamma, orient='index')\n",
    "policy_gamma_df.columns = ['gamma']\n",
    "policy_gamma_df"
   ]
  },
  {
   "cell_type": "code",
   "execution_count": 14,
   "metadata": {},
   "outputs": [],
   "source": [
    "mean_GDP_impact = df.groupby(\"dominant_policy\").agg({'c':'mean', 'i':'mean', 'g':'mean', 'GDP': 'mean'})/( TOTAL_GDP[region] / (12*1e9) )\n",
    "mean_GDP_impact = mean_GDP_impact.join(policy_gamma_df, how='left')"
   ]
  },
  {
   "cell_type": "code",
   "execution_count": 15,
   "metadata": {},
   "outputs": [
    {
     "data": {
      "text/html": [
       "<div>\n",
       "<style scoped>\n",
       "    .dataframe tbody tr th:only-of-type {\n",
       "        vertical-align: middle;\n",
       "    }\n",
       "\n",
       "    .dataframe tbody tr th {\n",
       "        vertical-align: top;\n",
       "    }\n",
       "\n",
       "    .dataframe thead th {\n",
       "        text-align: right;\n",
       "    }\n",
       "</style>\n",
       "<table border=\"1\" class=\"dataframe\">\n",
       "  <thead>\n",
       "    <tr style=\"text-align: right;\">\n",
       "      <th></th>\n",
       "      <th>c</th>\n",
       "      <th>i</th>\n",
       "      <th>g</th>\n",
       "      <th>GDP</th>\n",
       "      <th>gamma</th>\n",
       "    </tr>\n",
       "    <tr>\n",
       "      <th>dominant_policy</th>\n",
       "      <th></th>\n",
       "      <th></th>\n",
       "      <th></th>\n",
       "      <th></th>\n",
       "      <th></th>\n",
       "    </tr>\n",
       "  </thead>\n",
       "  <tbody>\n",
       "    <tr>\n",
       "      <th>Authorize_Schools_but_Restrict_Mass_Gatherings_and_Others</th>\n",
       "      <td>-0.019334</td>\n",
       "      <td>0.000000</td>\n",
       "      <td>0.0</td>\n",
       "      <td>-0.019334</td>\n",
       "      <td>0.794</td>\n",
       "    </tr>\n",
       "    <tr>\n",
       "      <th>Restrict_Mass_Gatherings_and_Schools_and_Others</th>\n",
       "      <td>-0.096267</td>\n",
       "      <td>-0.033029</td>\n",
       "      <td>0.0</td>\n",
       "      <td>-0.129296</td>\n",
       "      <td>0.423</td>\n",
       "    </tr>\n",
       "  </tbody>\n",
       "</table>\n",
       "</div>"
      ],
      "text/plain": [
       "                                                           c         i    g  \\\n",
       "dominant_policy                                                               \n",
       "Authorize_Schools_but_Restrict_Mass_Gatherings_... -0.019334  0.000000  0.0   \n",
       "Restrict_Mass_Gatherings_and_Schools_and_Others    -0.096267 -0.033029  0.0   \n",
       "\n",
       "                                                         GDP  gamma  \n",
       "dominant_policy                                                      \n",
       "Authorize_Schools_but_Restrict_Mass_Gatherings_... -0.019334  0.794  \n",
       "Restrict_Mass_Gatherings_and_Schools_and_Others    -0.129296  0.423  "
      ]
     },
     "execution_count": 15,
     "metadata": {},
     "output_type": "execute_result"
    }
   ],
   "source": [
    "mean_GDP_impact"
   ]
  },
  {
   "cell_type": "code",
   "execution_count": 16,
   "metadata": {},
   "outputs": [],
   "source": [
    "from sklearn.linear_model import LinearRegression\n",
    "\n",
    "x = np.array(mean_GDP_impact.gamma.to_list())\n",
    "x = 1-x # reversing gamma to make the line pass through 0 for No Measure\n",
    "y = np.array(mean_GDP_impact.GDP.to_list())\n",
    "ind = np.array(mean_GDP_impact.index.to_list())"
   ]
  },
  {
   "cell_type": "code",
   "execution_count": 17,
   "metadata": {},
   "outputs": [
    {
     "data": {
      "text/plain": [
       "-0.20936120564812802"
      ]
     },
     "execution_count": 17,
     "metadata": {},
     "output_type": "execute_result"
    }
   ],
   "source": [
    "model = LinearRegression(fit_intercept=False).fit(x.reshape(-1,1), y)\n",
    "m = model.coef_[0]\n",
    "m"
   ]
  },
  {
   "cell_type": "code",
   "execution_count": 18,
   "metadata": {},
   "outputs": [],
   "source": [
    "policy_gamma_df[\"pred_gdp_impact\"] = [m*(1-g) for g in policy_gamma_df[\"gamma\"]]"
   ]
  },
  {
   "cell_type": "code",
   "execution_count": 19,
   "metadata": {},
   "outputs": [
    {
     "data": {
      "text/html": [
       "<div>\n",
       "<style scoped>\n",
       "    .dataframe tbody tr th:only-of-type {\n",
       "        vertical-align: middle;\n",
       "    }\n",
       "\n",
       "    .dataframe tbody tr th {\n",
       "        vertical-align: top;\n",
       "    }\n",
       "\n",
       "    .dataframe thead th {\n",
       "        text-align: right;\n",
       "    }\n",
       "</style>\n",
       "<table border=\"1\" class=\"dataframe\">\n",
       "  <thead>\n",
       "    <tr style=\"text-align: right;\">\n",
       "      <th></th>\n",
       "      <th>gamma</th>\n",
       "      <th>pred_gdp_impact</th>\n",
       "    </tr>\n",
       "  </thead>\n",
       "  <tbody>\n",
       "    <tr>\n",
       "      <th>No_Measure</th>\n",
       "      <td>1.000</td>\n",
       "      <td>-0.000000</td>\n",
       "    </tr>\n",
       "    <tr>\n",
       "      <th>Restrict_Mass_Gatherings</th>\n",
       "      <td>0.873</td>\n",
       "      <td>-0.026589</td>\n",
       "    </tr>\n",
       "    <tr>\n",
       "      <th>Authorize_Schools_but_Restrict_Mass_Gatherings_and_Others</th>\n",
       "      <td>0.794</td>\n",
       "      <td>-0.043128</td>\n",
       "    </tr>\n",
       "    <tr>\n",
       "      <th>Mass_Gatherings_Authorized_But_Others_Restricted</th>\n",
       "      <td>0.668</td>\n",
       "      <td>-0.069508</td>\n",
       "    </tr>\n",
       "    <tr>\n",
       "      <th>Restrict_Mass_Gatherings_and_Schools</th>\n",
       "      <td>0.479</td>\n",
       "      <td>-0.109077</td>\n",
       "    </tr>\n",
       "    <tr>\n",
       "      <th>Restrict_Mass_Gatherings_and_Schools_and_Others</th>\n",
       "      <td>0.423</td>\n",
       "      <td>-0.120801</td>\n",
       "    </tr>\n",
       "    <tr>\n",
       "      <th>Lockdown</th>\n",
       "      <td>0.239</td>\n",
       "      <td>-0.159324</td>\n",
       "    </tr>\n",
       "  </tbody>\n",
       "</table>\n",
       "</div>"
      ],
      "text/plain": [
       "                                                    gamma  pred_gdp_impact\n",
       "No_Measure                                          1.000        -0.000000\n",
       "Restrict_Mass_Gatherings                            0.873        -0.026589\n",
       "Authorize_Schools_but_Restrict_Mass_Gatherings_...  0.794        -0.043128\n",
       "Mass_Gatherings_Authorized_But_Others_Restricted    0.668        -0.069508\n",
       "Restrict_Mass_Gatherings_and_Schools                0.479        -0.109077\n",
       "Restrict_Mass_Gatherings_and_Schools_and_Others     0.423        -0.120801\n",
       "Lockdown                                            0.239        -0.159324"
      ]
     },
     "execution_count": 19,
     "metadata": {},
     "output_type": "execute_result"
    }
   ],
   "source": [
    "policy_gamma_df"
   ]
  },
  {
   "cell_type": "markdown",
   "metadata": {},
   "source": [
    "## Calculating Employment Impact"
   ]
  },
  {
   "cell_type": "code",
   "execution_count": 20,
   "metadata": {},
   "outputs": [],
   "source": [
    "emp_impact = pd.read_csv(f\"cost_functions/economic_cost/economic_data/unemployment/{region}.csv\")"
   ]
  },
  {
   "cell_type": "code",
   "execution_count": 21,
   "metadata": {},
   "outputs": [],
   "source": [
    "emp_impact[\"date\"]=[datetime(int(r.year), int(r.month), 1).date() for _, r in emp_impact.iterrows()]"
   ]
  },
  {
   "cell_type": "code",
   "execution_count": 22,
   "metadata": {},
   "outputs": [],
   "source": [
    "df = pd.merge(emp_impact, dominant_policy_df, how=\"left\", left_on=\"date\", right_on=\"month_of\")"
   ]
  },
  {
   "cell_type": "code",
   "execution_count": 23,
   "metadata": {},
   "outputs": [],
   "source": [
    "mean_emp_impact = df.groupby(\"dominant_policy\").agg({'unemployment_gain':'mean'})\n",
    "mean_emp_impact = mean_emp_impact.join(policy_gamma_df, how='left')"
   ]
  },
  {
   "cell_type": "code",
   "execution_count": 24,
   "metadata": {},
   "outputs": [
    {
     "data": {
      "text/html": [
       "<div>\n",
       "<style scoped>\n",
       "    .dataframe tbody tr th:only-of-type {\n",
       "        vertical-align: middle;\n",
       "    }\n",
       "\n",
       "    .dataframe tbody tr th {\n",
       "        vertical-align: top;\n",
       "    }\n",
       "\n",
       "    .dataframe thead th {\n",
       "        text-align: right;\n",
       "    }\n",
       "</style>\n",
       "<table border=\"1\" class=\"dataframe\">\n",
       "  <thead>\n",
       "    <tr style=\"text-align: right;\">\n",
       "      <th></th>\n",
       "      <th>unemployment_gain</th>\n",
       "      <th>gamma</th>\n",
       "      <th>pred_gdp_impact</th>\n",
       "    </tr>\n",
       "    <tr>\n",
       "      <th>dominant_policy</th>\n",
       "      <th></th>\n",
       "      <th></th>\n",
       "      <th></th>\n",
       "    </tr>\n",
       "  </thead>\n",
       "  <tbody>\n",
       "    <tr>\n",
       "      <th>Authorize_Schools_but_Restrict_Mass_Gatherings_and_Others</th>\n",
       "      <td>0.0</td>\n",
       "      <td>0.794</td>\n",
       "      <td>-0.043128</td>\n",
       "    </tr>\n",
       "    <tr>\n",
       "      <th>Restrict_Mass_Gatherings_and_Schools_and_Others</th>\n",
       "      <td>1.0</td>\n",
       "      <td>0.423</td>\n",
       "      <td>-0.120801</td>\n",
       "    </tr>\n",
       "  </tbody>\n",
       "</table>\n",
       "</div>"
      ],
      "text/plain": [
       "                                                    unemployment_gain  gamma  \\\n",
       "dominant_policy                                                                \n",
       "Authorize_Schools_but_Restrict_Mass_Gatherings_...                0.0  0.794   \n",
       "Restrict_Mass_Gatherings_and_Schools_and_Others                   1.0  0.423   \n",
       "\n",
       "                                                    pred_gdp_impact  \n",
       "dominant_policy                                                      \n",
       "Authorize_Schools_but_Restrict_Mass_Gatherings_...        -0.043128  \n",
       "Restrict_Mass_Gatherings_and_Schools_and_Others           -0.120801  "
      ]
     },
     "execution_count": 24,
     "metadata": {},
     "output_type": "execute_result"
    }
   ],
   "source": [
    "mean_emp_impact"
   ]
  },
  {
   "cell_type": "code",
   "execution_count": 25,
   "metadata": {},
   "outputs": [],
   "source": [
    "x = np.array(mean_emp_impact.gamma.to_list())\n",
    "x = 1-x # reversing gamma to make the line pass through 0 for No Measure\n",
    "y = np.array(mean_emp_impact.unemployment_gain.to_list())\n",
    "ind = np.array(mean_emp_impact.index.to_list())"
   ]
  },
  {
   "cell_type": "code",
   "execution_count": 26,
   "metadata": {},
   "outputs": [
    {
     "data": {
      "text/plain": [
       "1.537170487392272"
      ]
     },
     "execution_count": 26,
     "metadata": {},
     "output_type": "execute_result"
    }
   ],
   "source": [
    "model_emp = LinearRegression(fit_intercept=False).fit(x.reshape(-1,1), y)\n",
    "m_emp = model_emp.coef_[0]\n",
    "m_emp"
   ]
  },
  {
   "cell_type": "code",
   "execution_count": 27,
   "metadata": {},
   "outputs": [],
   "source": [
    "policy_gamma_df[\"pred_unemployment_gain\"] = [m_emp*(1-g) for g in policy_gamma_df[\"gamma\"]]"
   ]
  },
  {
   "cell_type": "code",
   "execution_count": 28,
   "metadata": {},
   "outputs": [
    {
     "data": {
      "text/html": [
       "<div>\n",
       "<style scoped>\n",
       "    .dataframe tbody tr th:only-of-type {\n",
       "        vertical-align: middle;\n",
       "    }\n",
       "\n",
       "    .dataframe tbody tr th {\n",
       "        vertical-align: top;\n",
       "    }\n",
       "\n",
       "    .dataframe thead th {\n",
       "        text-align: right;\n",
       "    }\n",
       "</style>\n",
       "<table border=\"1\" class=\"dataframe\">\n",
       "  <thead>\n",
       "    <tr style=\"text-align: right;\">\n",
       "      <th></th>\n",
       "      <th>gamma</th>\n",
       "      <th>pred_gdp_impact</th>\n",
       "      <th>pred_unemployment_gain</th>\n",
       "    </tr>\n",
       "  </thead>\n",
       "  <tbody>\n",
       "    <tr>\n",
       "      <th>No_Measure</th>\n",
       "      <td>1.000</td>\n",
       "      <td>-0.000000</td>\n",
       "      <td>0.000000</td>\n",
       "    </tr>\n",
       "    <tr>\n",
       "      <th>Restrict_Mass_Gatherings</th>\n",
       "      <td>0.873</td>\n",
       "      <td>-0.026589</td>\n",
       "      <td>0.195221</td>\n",
       "    </tr>\n",
       "    <tr>\n",
       "      <th>Authorize_Schools_but_Restrict_Mass_Gatherings_and_Others</th>\n",
       "      <td>0.794</td>\n",
       "      <td>-0.043128</td>\n",
       "      <td>0.316657</td>\n",
       "    </tr>\n",
       "    <tr>\n",
       "      <th>Mass_Gatherings_Authorized_But_Others_Restricted</th>\n",
       "      <td>0.668</td>\n",
       "      <td>-0.069508</td>\n",
       "      <td>0.510341</td>\n",
       "    </tr>\n",
       "    <tr>\n",
       "      <th>Restrict_Mass_Gatherings_and_Schools</th>\n",
       "      <td>0.479</td>\n",
       "      <td>-0.109077</td>\n",
       "      <td>0.800866</td>\n",
       "    </tr>\n",
       "    <tr>\n",
       "      <th>Restrict_Mass_Gatherings_and_Schools_and_Others</th>\n",
       "      <td>0.423</td>\n",
       "      <td>-0.120801</td>\n",
       "      <td>0.886947</td>\n",
       "    </tr>\n",
       "    <tr>\n",
       "      <th>Lockdown</th>\n",
       "      <td>0.239</td>\n",
       "      <td>-0.159324</td>\n",
       "      <td>1.169787</td>\n",
       "    </tr>\n",
       "  </tbody>\n",
       "</table>\n",
       "</div>"
      ],
      "text/plain": [
       "                                                    gamma  pred_gdp_impact  \\\n",
       "No_Measure                                          1.000        -0.000000   \n",
       "Restrict_Mass_Gatherings                            0.873        -0.026589   \n",
       "Authorize_Schools_but_Restrict_Mass_Gatherings_...  0.794        -0.043128   \n",
       "Mass_Gatherings_Authorized_But_Others_Restricted    0.668        -0.069508   \n",
       "Restrict_Mass_Gatherings_and_Schools                0.479        -0.109077   \n",
       "Restrict_Mass_Gatherings_and_Schools_and_Others     0.423        -0.120801   \n",
       "Lockdown                                            0.239        -0.159324   \n",
       "\n",
       "                                                    pred_unemployment_gain  \n",
       "No_Measure                                                        0.000000  \n",
       "Restrict_Mass_Gatherings                                          0.195221  \n",
       "Authorize_Schools_but_Restrict_Mass_Gatherings_...                0.316657  \n",
       "Mass_Gatherings_Authorized_But_Others_Restricted                  0.510341  \n",
       "Restrict_Mass_Gatherings_and_Schools                              0.800866  \n",
       "Restrict_Mass_Gatherings_and_Schools_and_Others                   0.886947  \n",
       "Lockdown                                                          1.169787  "
      ]
     },
     "execution_count": 28,
     "metadata": {},
     "output_type": "execute_result"
    }
   ],
   "source": [
    "policy_gamma_df"
   ]
  },
  {
   "cell_type": "code",
   "execution_count": null,
   "metadata": {},
   "outputs": [],
   "source": []
  },
  {
   "cell_type": "code",
   "execution_count": null,
   "metadata": {},
   "outputs": [],
   "source": []
  }
 ],
 "metadata": {
  "interpreter": {
   "hash": "bcae9fa33c0b8b7ffb5e5f839154ee5123f3d8da27254582c09d65579e150ffa"
  },
  "kernelspec": {
   "display_name": "Python 3",
   "language": "python",
   "name": "python3"
  },
  "language_info": {
   "codemirror_mode": {
    "name": "ipython",
    "version": 3
   },
   "file_extension": ".py",
   "mimetype": "text/x-python",
   "name": "python",
   "nbconvert_exporter": "python",
   "pygments_lexer": "ipython3",
   "version": "3.8.3"
  }
 },
 "nbformat": 4,
 "nbformat_minor": 2
}
