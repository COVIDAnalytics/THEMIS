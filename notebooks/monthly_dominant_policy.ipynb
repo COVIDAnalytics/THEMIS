{
 "metadata": {
  "language_info": {
   "codemirror_mode": {
    "name": "ipython",
    "version": 3
   },
   "file_extension": ".py",
   "mimetype": "text/x-python",
   "name": "python",
   "nbconvert_exporter": "python",
   "pygments_lexer": "ipython3",
   "version": "3.8.3"
  },
  "orig_nbformat": 2,
  "kernelspec": {
   "name": "python383jvsc74a57bd0bcae9fa33c0b8b7ffb5e5f839154ee5123f3d8da27254582c09d65579e150ffa",
   "display_name": "Python 3.8.3 64-bit ('base': conda)"
  }
 },
 "nbformat": 4,
 "nbformat_minor": 2,
 "cells": [
  {
   "cell_type": "code",
   "execution_count": 1,
   "metadata": {},
   "outputs": [],
   "source": [
    "import numpy as np\n",
    "import pandas as pd\n",
    "from datetime import datetime\n",
    "from dateutil.relativedelta import relativedelta\n",
    "from dateparser import parse\n",
    "from copy import deepcopy"
   ]
  },
  {
   "cell_type": "code",
   "execution_count": 2,
   "metadata": {},
   "outputs": [],
   "source": [
    "import os\n",
    "os.chdir(\"../\")"
   ]
  },
  {
   "cell_type": "code",
   "execution_count": 3,
   "metadata": {},
   "outputs": [
    {
     "output_type": "stream",
     "name": "stderr",
     "text": [
      "/Users/saksham/opt/anaconda3/lib/python3.8/site-packages/IPython/core/interactiveshell.py:3263: DtypeWarning: Columns (2,3) have mixed types.Specify dtype option on import or set low_memory=False.\n  if (await self.run_code(code, result,  async_=asy)):\n"
     ]
    }
   ],
   "source": [
    "from pandemic_functions.delphi_functions.DELPHI_model_policy_scenarios import read_oxford_country_policy_data, read_policy_data_us_only, get_dominant_policy\n",
    "from pandemic_functions.pandemic_params import future_policies"
   ]
  },
  {
   "cell_type": "code",
   "execution_count": 4,
   "metadata": {},
   "outputs": [],
   "source": [
    "start_date = \"2020-03-01\"\n",
    "end_date =  \"2021-01-31\"\n",
    "\n",
    "country = 'US'\n",
    "province = 'Florida'\n",
    "\n",
    "if country == 'US':\n",
    "    policy_data = read_policy_data_us_only(province, start_date=start_date, end_date=end_date)\n",
    "else:\n",
    "    policy_data = read_oxford_country_policy_data(country=country, start_date=start_date, end_date=end_date)"
   ]
  },
  {
   "cell_type": "code",
   "execution_count": 27,
   "metadata": {},
   "outputs": [],
   "source": [
    "end_dt = parse(end_date)\n",
    "\n",
    "dt1 = parse(start_date)\n",
    "dt2 = dt1 + relativedelta(months=1, days=-1)\n",
    "\n",
    "dominant_policy_dict = {\"month_of\": [], \"dominant_policy\": []}\n",
    "\n",
    "while dt2 <= end_dt:\n",
    "    dominant_policy_dict[\"month_of\"].append(dt1.date())\n",
    "    dominant_policy_dict[\"dominant_policy\"].append(get_dominant_policy(policy_data, start_date=dt1, end_date=dt2))\n",
    "    dt1 = dt2 + relativedelta(days=1)\n",
    "    dt2 = dt1 + relativedelta(months=1, days=-1)\n",
    "\n",
    "dominant_policy_df = pd.DataFrame.from_dict(dominant_policy_dict)"
   ]
  },
  {
   "cell_type": "code",
   "execution_count": 28,
   "metadata": {},
   "outputs": [
    {
     "output_type": "execute_result",
     "data": {
      "text/plain": [
       "      month_of                                   dominant_policy\n",
       "0   2020-03-01                                        No_Measure\n",
       "1   2020-04-01                                          Lockdown\n",
       "2   2020-05-01                                          Lockdown\n",
       "3   2020-06-01  Mass_Gatherings_Authorized_But_Others_Restricted\n",
       "4   2020-07-01  Mass_Gatherings_Authorized_But_Others_Restricted\n",
       "5   2020-08-01  Mass_Gatherings_Authorized_But_Others_Restricted\n",
       "6   2020-09-01  Mass_Gatherings_Authorized_But_Others_Restricted\n",
       "7   2020-10-01  Mass_Gatherings_Authorized_But_Others_Restricted\n",
       "8   2020-11-01  Mass_Gatherings_Authorized_But_Others_Restricted\n",
       "9   2020-12-01  Mass_Gatherings_Authorized_But_Others_Restricted\n",
       "10  2021-01-01  Mass_Gatherings_Authorized_But_Others_Restricted"
      ],
      "text/html": "<div>\n<style scoped>\n    .dataframe tbody tr th:only-of-type {\n        vertical-align: middle;\n    }\n\n    .dataframe tbody tr th {\n        vertical-align: top;\n    }\n\n    .dataframe thead th {\n        text-align: right;\n    }\n</style>\n<table border=\"1\" class=\"dataframe\">\n  <thead>\n    <tr style=\"text-align: right;\">\n      <th></th>\n      <th>month_of</th>\n      <th>dominant_policy</th>\n    </tr>\n  </thead>\n  <tbody>\n    <tr>\n      <th>0</th>\n      <td>2020-03-01</td>\n      <td>No_Measure</td>\n    </tr>\n    <tr>\n      <th>1</th>\n      <td>2020-04-01</td>\n      <td>Lockdown</td>\n    </tr>\n    <tr>\n      <th>2</th>\n      <td>2020-05-01</td>\n      <td>Lockdown</td>\n    </tr>\n    <tr>\n      <th>3</th>\n      <td>2020-06-01</td>\n      <td>Mass_Gatherings_Authorized_But_Others_Restricted</td>\n    </tr>\n    <tr>\n      <th>4</th>\n      <td>2020-07-01</td>\n      <td>Mass_Gatherings_Authorized_But_Others_Restricted</td>\n    </tr>\n    <tr>\n      <th>5</th>\n      <td>2020-08-01</td>\n      <td>Mass_Gatherings_Authorized_But_Others_Restricted</td>\n    </tr>\n    <tr>\n      <th>6</th>\n      <td>2020-09-01</td>\n      <td>Mass_Gatherings_Authorized_But_Others_Restricted</td>\n    </tr>\n    <tr>\n      <th>7</th>\n      <td>2020-10-01</td>\n      <td>Mass_Gatherings_Authorized_But_Others_Restricted</td>\n    </tr>\n    <tr>\n      <th>8</th>\n      <td>2020-11-01</td>\n      <td>Mass_Gatherings_Authorized_But_Others_Restricted</td>\n    </tr>\n    <tr>\n      <th>9</th>\n      <td>2020-12-01</td>\n      <td>Mass_Gatherings_Authorized_But_Others_Restricted</td>\n    </tr>\n    <tr>\n      <th>10</th>\n      <td>2021-01-01</td>\n      <td>Mass_Gatherings_Authorized_But_Others_Restricted</td>\n    </tr>\n  </tbody>\n</table>\n</div>"
     },
     "metadata": {},
     "execution_count": 28
    }
   ],
   "source": [
    "dominant_policy_df"
   ]
  },
  {
   "cell_type": "code",
   "execution_count": null,
   "metadata": {},
   "outputs": [],
   "source": []
  }
 ]
}