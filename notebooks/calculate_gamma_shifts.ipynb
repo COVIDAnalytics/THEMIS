{
 "cells": [
  {
   "cell_type": "code",
   "execution_count": 1,
   "metadata": {},
   "outputs": [],
   "source": [
    "import numpy as np\n",
    "import pandas as pd\n",
    "from datetime import datetime\n",
    "from dateparser import parse\n",
    "from copy import deepcopy"
   ]
  },
  {
   "cell_type": "code",
   "execution_count": 2,
   "metadata": {},
   "outputs": [],
   "source": [
    "import matplotlib.pyplot as plt"
   ]
  },
  {
   "cell_type": "markdown",
   "metadata": {},
   "source": [
    "## Import and define useful functions"
   ]
  },
  {
   "cell_type": "code",
   "execution_count": 3,
   "metadata": {},
   "outputs": [
    {
     "name": "stderr",
     "output_type": "stream",
     "text": [
      "/Users/saksham/opt/anaconda3/lib/python3.8/site-packages/IPython/core/interactiveshell.py:3263: DtypeWarning: Columns (2,3) have mixed types.Specify dtype option on import or set low_memory=False.\n",
      "  if (await self.run_code(code, result,  async_=asy)):\n"
     ]
    }
   ],
   "source": [
    "import os\n",
    "os.chdir(\"../\")\n",
    "\n",
    "from pandemic_functions.delphi_functions.DELPHI_model_policy_scenarios import read_oxford_country_policy_data, read_policy_data_us_only, gamma_t\n",
    "from pandemic_functions.pandemic_params import future_policies, policy_data_start_date, policy_data_end_date"
   ]
  },
  {
   "cell_type": "code",
   "execution_count": 4,
   "metadata": {},
   "outputs": [],
   "source": [
    "default_dict_normalized_policy_gamma = {\n",
    "    'No_Measure': 1.0,\n",
    "    'Restrict_Mass_Gatherings': 0.873,\n",
    "    'Authorize_Schools_but_Restrict_Mass_Gatherings_and_Others': 0.794,\n",
    "    'Mass_Gatherings_Authorized_But_Others_Restricted': 0.668,\n",
    "    'Restrict_Mass_Gatherings_and_Schools': 0.479,\n",
    "    'Restrict_Mass_Gatherings_and_Schools_and_Others': 0.423,\n",
    "    'Lockdown': 0.239\n",
    "}"
   ]
  },
  {
   "cell_type": "code",
   "execution_count": 5,
   "metadata": {},
   "outputs": [],
   "source": [
    "def sigmoid(x):\n",
    "    return 1/(1+np.exp(-x))\n",
    "\n",
    "def sigmoid_inv(x):\n",
    "    if x==1 or x==0:\n",
    "        raise ZeroDivisionError\n",
    "    # EPS = 1e-6\n",
    "    return np.log(x/(1-x))\n",
    "\n",
    "sigmoid_inv_np = np.vectorize(sigmoid_inv)"
   ]
  },
  {
   "cell_type": "markdown",
   "metadata": {},
   "source": [
    "## Regional Gamma values for Policies"
   ]
  },
  {
   "cell_type": "code",
   "execution_count": 6,
   "metadata": {},
   "outputs": [],
   "source": [
    "past_parameters = pd.read_csv(\"pandemic_functions/pandemic_data/Parameters_Global_V2_20200703.csv\")\n",
    "# past_parameters = pd.read_csv(\"pandemic_functions/pandemic_data/NY_Correction_Parameters_Global_V2_annealing_20210409.csv\")"
   ]
  },
  {
   "cell_type": "code",
   "execution_count": 8,
   "metadata": {},
   "outputs": [
    {
     "name": "stdout",
     "output_type": "stream",
     "text": [
      "2020-03-01\n",
      "2020-03-02\n",
      "2020-03-02\n"
     ]
    }
   ],
   "source": [
    "country = 'Spain'\n",
    "province = 'None'\n",
    "\n",
    "\n",
    "params_list = past_parameters.query(\"Country == @country and Province == @province\")[\n",
    "    [\"Data Start Date\", \"Median Day of Action\", \"Rate of Action\", \"Jump Magnitude\", \"Jump Time\", \"Jump Decay\"]\n",
    "].iloc[0]\n",
    "print(policy_data_start_date)\n",
    "print(params_list['Data Start Date'])\n",
    "final_start_date = max(parse(params_list['Data Start Date']), parse(policy_data_start_date))\n",
    "final_start_date = str(final_start_date.date())\n",
    "print(final_start_date)\n",
    "# final_start_date = policy_data_start_date\n",
    "\n",
    "if country == 'US':\n",
    "    policy_data = read_policy_data_us_only(province, start_date=final_start_date, end_date=policy_data_end_date)\n",
    "else:\n",
    "    policy_data = read_oxford_country_policy_data(country=country, start_date=final_start_date, end_date=policy_data_end_date)\n",
    "\n",
    "policy_data.loc[:, \"Gamma\"] = [\n",
    "    gamma_t(day, params_list)\n",
    "    for day in policy_data[\"date\"]\n",
    "]\n",
    "n_measures = policy_data.iloc[:, 3:-1].shape[1]\n",
    "dict_region_policy_gamma = {\n",
    "    policy_data.columns[3 + i]: policy_data[\n",
    "        policy_data.iloc[:, 3 + i] == 1\n",
    "    ]\n",
    "    .iloc[:, -1]\n",
    "    .mean()\n",
    "    for i in range(n_measures)\n",
    "}\n",
    "dict_region_policy_counts = {\n",
    "    policy_data.columns[3 + i]: policy_data[\n",
    "        policy_data.iloc[:, 3 + i] == 1\n",
    "    ]\n",
    "    .iloc[:, 3 + i]\n",
    "    .sum()\n",
    "    for i in range(n_measures)\n",
    "}"
   ]
  },
  {
   "cell_type": "code",
   "execution_count": 8,
   "metadata": {},
   "outputs": [],
   "source": [
    "# policy_data = read_oxford_country_policy_data(country=country, start_date=\"2020-03-15\", end_date=\"2020-6-15\")"
   ]
  },
  {
   "cell_type": "code",
   "execution_count": 17,
   "metadata": {},
   "outputs": [
    {
     "data": {
      "text/plain": [
       "{'No_Measure': 1.3141371384043916,\n",
       " 'Restrict_Mass_Gatherings': 2.127195524618138,\n",
       " 'Mass_Gatherings_Authorized_But_Others_Restricted': nan,\n",
       " 'Restrict_Mass_Gatherings_and_Schools': nan,\n",
       " 'Authorize_Schools_but_Restrict_Mass_Gatherings_and_Others': 0.9749908311265485,\n",
       " 'Restrict_Mass_Gatherings_and_Schools_and_Others': 0.09265285387591703,\n",
       " 'Lockdown': 0.18044320948200543}"
      ]
     },
     "execution_count": 17,
     "metadata": {},
     "output_type": "execute_result"
    }
   ],
   "source": [
    "dict_region_policy_gamma"
   ]
  },
  {
   "cell_type": "code",
   "execution_count": 9,
   "metadata": {},
   "outputs": [
    {
     "data": {
      "text/plain": [
       "{'No_Measure': 1.0,\n",
       " 'Restrict_Mass_Gatherings': 0.873,\n",
       " 'Authorize_Schools_but_Restrict_Mass_Gatherings_and_Others': 0.794,\n",
       " 'Mass_Gatherings_Authorized_But_Others_Restricted': 0.668,\n",
       " 'Restrict_Mass_Gatherings_and_Schools': 0.479,\n",
       " 'Restrict_Mass_Gatherings_and_Schools_and_Others': 0.423,\n",
       " 'Lockdown': 0.239}"
      ]
     },
     "execution_count": 9,
     "metadata": {},
     "output_type": "execute_result"
    }
   ],
   "source": [
    "default_dict_normalized_policy_gamma"
   ]
  },
  {
   "cell_type": "code",
   "execution_count": 19,
   "metadata": {},
   "outputs": [
    {
     "data": {
      "text/plain": [
       "{'No_Measure': 11,\n",
       " 'Restrict_Mass_Gatherings': 4,\n",
       " 'Mass_Gatherings_Authorized_But_Others_Restricted': 0,\n",
       " 'Restrict_Mass_Gatherings_and_Schools': 0,\n",
       " 'Authorize_Schools_but_Restrict_Mass_Gatherings_and_Others': 2,\n",
       " 'Restrict_Mass_Gatherings_and_Schools_and_Others': 68,\n",
       " 'Lockdown': 68}"
      ]
     },
     "execution_count": 19,
     "metadata": {},
     "output_type": "execute_result"
    }
   ],
   "source": [
    "dict_region_policy_counts"
   ]
  },
  {
   "cell_type": "code",
   "execution_count": 11,
   "metadata": {},
   "outputs": [],
   "source": [
    "dict_region_policy_gamma = dict(sorted(dict_region_policy_gamma.items(), key=lambda x: x[0]))\n",
    "dict_region_policy_counts = dict(sorted(dict_region_policy_counts.items(), key=lambda x: x[0]))\n",
    "default_dict_normalized_policy_gamma = dict(sorted(default_dict_normalized_policy_gamma.items(), key=lambda x: x[0]))"
   ]
  },
  {
   "cell_type": "code",
   "execution_count": 12,
   "metadata": {},
   "outputs": [],
   "source": [
    "from scipy.stats import linregress\n",
    "\n",
    "x = np.array(list(default_dict_normalized_policy_gamma.values()))\n",
    "y = np.array(list(dict_region_policy_gamma.values()))\n",
    "ind = np.array(list(dict_region_policy_counts.values()))\n",
    "\n",
    "train_keys = np.array(list(default_dict_normalized_policy_gamma.keys()))\n",
    "train_keys = train_keys[(~np.isnan(y)) & (ind > 10)]\n",
    "\n",
    "x_train = x[(~np.isnan(y)) & (ind > 10)]\n",
    "y_train = y[(~np.isnan(y)) & (ind > 10)]\n",
    "y_train = sigmoid_inv_np(y_train/2)\n",
    "\n",
    "m, C, _, _, _ = linregress(x_train, y_train)\n",
    "\n",
    "for key, val in dict_region_policy_gamma.items():\n",
    "    if key not in train_keys:\n",
    "        dict_region_policy_gamma[key] = 2*sigmoid(m*default_dict_normalized_policy_gamma[key] + C)\n",
    "        # print(key, 2*sigmoid(m*default_dict_normalized_policy_gamma[key] + C))"
   ]
  },
  {
   "cell_type": "code",
   "execution_count": 13,
   "metadata": {},
   "outputs": [
    {
     "data": {
      "text/plain": [
       "0.09265285387591704"
      ]
     },
     "execution_count": 13,
     "metadata": {},
     "output_type": "execute_result"
    }
   ],
   "source": [
    "key = 'Restrict_Mass_Gatherings_and_Schools_and_Others'\n",
    "2*sigmoid(m*default_dict_normalized_policy_gamma[key] + C)"
   ]
  },
  {
   "cell_type": "code",
   "execution_count": 14,
   "metadata": {},
   "outputs": [
    {
     "data": {
      "text/plain": [
       "array(['Lockdown', 'Restrict_Mass_Gatherings_and_Schools_and_Others'],\n",
       "      dtype='<U57')"
      ]
     },
     "execution_count": 14,
     "metadata": {},
     "output_type": "execute_result"
    }
   ],
   "source": [
    "train_keys"
   ]
  },
  {
   "cell_type": "code",
   "execution_count": null,
   "metadata": {},
   "outputs": [],
   "source": [
    "dict_region_policy_gamma"
   ]
  },
  {
   "cell_type": "code",
   "execution_count": 15,
   "metadata": {},
   "outputs": [
    {
     "data": {
      "text/plain": [
       "{'Authorize_Schools_but_Restrict_Mass_Gatherings_and_Others': 0.02277922864071226,\n",
       " 'Lockdown': 0.18044320948200543,\n",
       " 'Mass_Gatherings_Authorized_But_Others_Restricted': 0.03687044282187609,\n",
       " 'No_Measure': 0.010310141347597144,\n",
       " 'Restrict_Mass_Gatherings': 0.016817903517856895,\n",
       " 'Restrict_Mass_Gatherings_and_Schools': 0.07524425216299054,\n",
       " 'Restrict_Mass_Gatherings_and_Schools_and_Others': 0.09265285387591703}"
      ]
     },
     "execution_count": 15,
     "metadata": {},
     "output_type": "execute_result"
    }
   ],
   "source": [
    "# sorted(dict_region_policy_gamma.items(), key=lambda x: x[1])\n",
    "dict_region_policy_gamma"
   ]
  },
  {
   "cell_type": "code",
   "execution_count": null,
   "metadata": {},
   "outputs": [],
   "source": [
    "{'Authorize_Schools_but_Restrict_Mass_Gatherings_and_Others': 0.02277922864071226, \n",
    "'Lockdown': 0.18044320948200543, \n",
    "'Mass_Gatherings_Authorized_But_Others_Restricted': 0.03687044282187609, \n",
    "'No_Measure': 0.010310141347597144, \n",
    "'Restrict_Mass_Gatherings': 0.016817903517856895, \n",
    "'Restrict_Mass_Gatherings_and_Schools': 0.07524425216299054, \n",
    "'Restrict_Mass_Gatherings_and_Schools_and_Others': 0.09265285387591703}"
   ]
  },
  {
   "cell_type": "markdown",
   "metadata": {},
   "source": [
    "{'Authorize_Schools_but_Restrict_Mass_Gatherings_and_Others': 0.7950475216464683, \n",
    "'Lockdown': 0.18044320948200543, \n",
    "'Mass_Gatherings_Authorized_But_Others_Restricted': 0.551618671754817, \n",
    "'No_Measure': 1.3141371384043916, \n",
    "'Restrict_Mass_Gatherings': 0.9643982865949828, \n",
    "'Restrict_Mass_Gatherings_and_Schools': 0.28622589661462394, \n",
    "'Restrict_Mass_Gatherings_and_Schools_and_Others': 0.12279766308608538}"
   ]
  },
  {
   "cell_type": "code",
   "execution_count": 18,
   "metadata": {},
   "outputs": [
    {
     "data": {
      "text/plain": [
       "array(['Lockdown', 'Restrict_Mass_Gatherings_and_Schools_and_Others'],\n",
       "      dtype='<U57')"
      ]
     },
     "execution_count": 18,
     "metadata": {},
     "output_type": "execute_result"
    }
   ],
   "source": [
    "train_keys"
   ]
  },
  {
   "cell_type": "code",
   "execution_count": 19,
   "metadata": {},
   "outputs": [
    {
     "data": {
      "text/plain": [
       "{'Authorize_Schools_but_Restrict_Mass_Gatherings_and_Others': 0.054987436444905176,\n",
       " 'Lockdown': 0.18044320948200543,\n",
       " 'Mass_Gatherings_Authorized_But_Others_Restricted': 0.07245735485494019,\n",
       " 'No_Measure': 0.034868386080552545,\n",
       " 'Restrict_Mass_Gatherings': 0.046199770815040696,\n",
       " 'Restrict_Mass_Gatherings_and_Schools': 0.10898804969292702,\n",
       " 'Restrict_Mass_Gatherings_and_Schools_and_Others': 0.12279766308608538}"
      ]
     },
     "execution_count": 19,
     "metadata": {},
     "output_type": "execute_result"
    }
   ],
   "source": [
    "dict_region_policy_gamma"
   ]
  },
  {
   "cell_type": "code",
   "execution_count": 20,
   "metadata": {},
   "outputs": [
    {
     "data": {
      "text/plain": [
       "<matplotlib.collections.PathCollection at 0x7ff20b7461c0>"
      ]
     },
     "execution_count": 20,
     "metadata": {},
     "output_type": "execute_result"
    },
    {
     "data": {
      "image/png": "[encoded data removed]",
      "text/plain": [
       "<Figure size 432x288 with 1 Axes>"
      ]
     },
     "metadata": {
      "needs_background": "light"
     },
     "output_type": "display_data"
    }
   ],
   "source": [
    "y = np.array(list(dict_region_policy_gamma.values()))\n",
    "plt.scatter(x, 2*sigmoid(x*m + C))\n",
    "plt.scatter(x_train, 2*sigmoid(y_train), color='red')"
   ]
  },
  {
   "cell_type": "code",
   "execution_count": 18,
   "metadata": {},
   "outputs": [
    {
     "data": {
      "text/plain": [
       "<matplotlib.collections.PathCollection at 0x7fe230737d00>"
      ]
     },
     "execution_count": 18,
     "metadata": {},
     "output_type": "execute_result"
    },
    {
     "data": {
      "image/png": "[encoded data removed]",
      "text/plain": [
       "<Figure size 432x288 with 1 Axes>"
      ]
     },
     "metadata": {
      "needs_background": "light"
     },
     "output_type": "display_data"
    }
   ],
   "source": [
    "plt.scatter(x_train, y_train)"
   ]
  },
  {
   "cell_type": "code",
   "execution_count": 9,
   "metadata": {},
   "outputs": [
    {
     "data": {
      "text/plain": [
       "<matplotlib.axes._subplots.AxesSubplot at 0x7f8e2a3d7ca0>"
      ]
     },
     "execution_count": 9,
     "metadata": {},
     "output_type": "execute_result"
    },
    {
     "data": {
      "image/png": "[encoded data removed]",
      "image/svg+xml": "<?xml version=\"1.0\" encoding=\"utf-8\" standalone=\"no\"?>\n<!DOCTYPE svg PUBLIC \"-//W3C//DTD SVG 1.1//EN\"\n  \"http://www.w3.org/Graphics/SVG/1.1/DTD/svg11.dtd\">\n<!-- Created with matplotlib (https://matplotlib.org/) -->\n<svg height=\"248.518125pt\" version=\"1.1\" viewBox=\"0 0 380.482812 248.518125\" width=\"380.482812pt\" xmlns=\"http://www.w3.org/2000/svg\" xmlns:xlink=\"http://www.w3.org/1999/xlink\">\n <defs>\n  <style type=\"text/css\">\n*{stroke-linecap:butt;stroke-linejoin:round;}\n  </style>\n </defs>\n <g id=\"figure_1\">\n  <g id=\"patch_1\">\n   <path d=\"M -0 248.518125 \nL 380.482812 248.518125 \nL 380.482812 0 \nL -0 0 \nz\n\" style=\"fill:none;\"/>\n  </g>\n  <g id=\"axes_1\">\n   <g id=\"patch_2\">\n    <path d=\"M 38.482813 224.64 \nL 373.282813 224.64 \nL 373.282813 7.2 \nL 38.482813 7.2 \nz\n\" style=\"fill:#ffffff;\"/>\n   </g>\n   <g id=\"PathCollection_1\">\n    <defs>\n     <path d=\"M 0 3 \nC 0.795609 3 1.55874 2.683901 2.12132 2.12132 \nC 2.683901 1.55874 3 0.795609 3 0 \nC 3 -0.795609 2.683901 -1.55874 2.12132 -2.12132 \nC 1.55874 -2.683901 0.795609 -3 0 -3 \nC -0.795609 -3 -1.55874 -2.683901 -2.12132 -2.12132 \nC -2.683901 -1.55874 -3 -0.795609 -3 0 \nC -3 0.795609 -2.683901 1.55874 -2.12132 2.12132 \nC -1.55874 2.683901 -0.795609 3 0 3 \nz\n\" id=\"m280c338acb\" style=\"stroke:#1f77b4;stroke-opacity:0.8;\"/>\n    </defs>\n    <g clip-path=\"url(#pd08678d3ef)\">\n     <use style=\"fill:#1f77b4;fill-opacity:0.8;stroke:#1f77b4;stroke-opacity:0.8;\" x=\"373.282812\" xlink:href=\"#m280c338acb\" y=\"188.226746\"/>\n     <use style=\"fill:#1f77b4;fill-opacity:0.8;stroke:#1f77b4;stroke-opacity:0.8;\" x=\"38.482812\" xlink:href=\"#m280c338acb\" y=\"190.926014\"/>\n     <use style=\"fill:#1f77b4;fill-opacity:0.8;stroke:#1f77b4;stroke-opacity:0.8;\" x=\"297.274164\" xlink:href=\"#m280c338acb\" y=\"149.372635\"/>\n     <use style=\"fill:#1f77b4;fill-opacity:0.8;stroke:#1f77b4;stroke-opacity:0.8;\" x=\"149.479569\" xlink:href=\"#m280c338acb\" y=\"186.712993\"/>\n    </g>\n   </g>\n   <g id=\"PolyCollection_1\">\n    <path clip-path=\"url(#pd08678d3ef)\" d=\"M 38.482812 17.083636 \nL 38.482812 214.756364 \nL 41.864631 213.901946 \nL 45.246449 213.047528 \nL 48.628267 212.193111 \nL 52.010085 211.338693 \nL 55.391903 210.484276 \nL 58.773722 209.629858 \nL 62.15554 208.77544 \nL 65.537358 207.921023 \nL 68.919176 207.066605 \nL 72.300994 206.212188 \nL 75.682812 205.35777 \nL 79.064631 204.503353 \nL 82.446449 203.648935 \nL 85.828267 202.794517 \nL 89.210085 201.9401 \nL 92.591903 201.085682 \nL 95.973722 200.231265 \nL 99.35554 199.376847 \nL 102.737358 198.522429 \nL 106.119176 197.668012 \nL 109.500994 196.813594 \nL 112.882812 195.959177 \nL 116.264631 195.104759 \nL 119.646449 194.250341 \nL 123.028267 193.395924 \nL 126.410085 192.541506 \nL 129.791903 191.687089 \nL 133.173722 190.832671 \nL 136.55554 190.13532 \nL 139.937358 190.108054 \nL 143.319176 190.080789 \nL 146.700994 190.053524 \nL 150.082813 190.026258 \nL 153.464631 189.998993 \nL 156.846449 189.971728 \nL 160.228267 189.944462 \nL 163.610085 189.917197 \nL 166.991903 189.889932 \nL 170.373722 189.862666 \nL 173.75554 189.835401 \nL 177.137358 189.808136 \nL 180.519176 189.78087 \nL 183.900994 189.753605 \nL 187.282813 189.72634 \nL 190.664631 189.699074 \nL 194.046449 189.671809 \nL 197.428267 189.644544 \nL 200.810085 189.617278 \nL 204.191903 189.590013 \nL 207.573722 189.562748 \nL 210.95554 189.535482 \nL 214.337358 189.508217 \nL 217.719176 189.480952 \nL 221.100994 189.453686 \nL 224.482812 189.426421 \nL 227.864631 189.399155 \nL 231.246449 189.37189 \nL 234.628267 189.344625 \nL 238.010085 189.317359 \nL 241.391903 189.290094 \nL 244.773722 189.262829 \nL 248.15554 189.235563 \nL 251.537358 189.208298 \nL 254.919176 189.181033 \nL 258.300994 189.153767 \nL 261.682812 189.126502 \nL 265.064631 189.099237 \nL 268.446449 189.071971 \nL 271.828267 189.044706 \nL 275.210085 189.017441 \nL 278.591903 188.990175 \nL 281.973722 188.96291 \nL 285.35554 188.935645 \nL 288.737358 188.908379 \nL 292.119176 188.881114 \nL 295.500994 188.853849 \nL 298.882812 188.826583 \nL 302.264631 188.799318 \nL 305.646449 188.772053 \nL 309.028267 188.744787 \nL 312.410085 188.717522 \nL 315.791903 188.690257 \nL 319.173722 188.662991 \nL 322.55554 188.635726 \nL 325.937358 188.608461 \nL 329.319176 188.581195 \nL 332.700994 188.55393 \nL 336.082813 188.526665 \nL 339.464631 188.499399 \nL 342.846449 188.472134 \nL 346.228267 188.444869 \nL 349.610085 188.417603 \nL 352.991903 188.390338 \nL 356.373722 188.363073 \nL 359.75554 188.335807 \nL 363.137358 188.308542 \nL 366.519176 188.281277 \nL 369.900994 188.254011 \nL 373.282812 188.226746 \nL 373.282812 130.169022 \nL 373.282812 130.169022 \nL 369.900994 131.023439 \nL 366.519176 131.877857 \nL 363.137358 132.732275 \nL 359.75554 133.586692 \nL 356.373722 134.44111 \nL 352.991903 135.295527 \nL 349.610085 136.149945 \nL 346.228267 137.004363 \nL 342.846449 137.85878 \nL 339.464631 138.713198 \nL 336.082813 139.567615 \nL 332.700994 140.422033 \nL 329.319176 141.276451 \nL 325.937358 142.130868 \nL 322.55554 142.985286 \nL 319.173722 143.839703 \nL 315.791903 144.694121 \nL 312.410085 145.548539 \nL 309.028267 146.402956 \nL 305.646449 147.257374 \nL 302.264631 148.111791 \nL 298.882812 148.966209 \nL 295.500994 148.466226 \nL 292.119176 146.737507 \nL 288.737358 145.008789 \nL 285.35554 143.280071 \nL 281.973722 141.551352 \nL 278.591903 139.822634 \nL 275.210085 138.093916 \nL 271.828267 136.365198 \nL 268.446449 134.636479 \nL 265.064631 132.907761 \nL 261.682812 131.179043 \nL 258.300994 129.450324 \nL 254.919176 127.721606 \nL 251.537358 125.992888 \nL 248.15554 124.26417 \nL 244.773722 122.535451 \nL 241.391903 120.806733 \nL 238.010085 119.078015 \nL 234.628267 117.349297 \nL 231.246449 115.620578 \nL 227.864631 113.89186 \nL 224.482812 112.163142 \nL 221.100994 110.434423 \nL 217.719176 108.705705 \nL 214.337358 106.976987 \nL 210.95554 105.248269 \nL 207.573722 103.51955 \nL 204.191903 101.790832 \nL 200.810085 100.062114 \nL 197.428267 98.333395 \nL 194.046449 96.604677 \nL 190.664631 94.875959 \nL 187.282813 93.147241 \nL 183.900994 91.418522 \nL 180.519176 89.689804 \nL 177.137358 87.961086 \nL 173.75554 86.232368 \nL 170.373722 84.503649 \nL 166.991903 82.774931 \nL 163.610085 81.046213 \nL 160.228267 79.317494 \nL 156.846449 77.588776 \nL 153.464631 75.860058 \nL 150.082813 74.13134 \nL 146.700994 72.402621 \nL 143.319176 70.673903 \nL 139.937358 68.945185 \nL 136.55554 67.216466 \nL 133.173722 65.487748 \nL 129.791903 63.75903 \nL 126.410085 62.030312 \nL 123.028267 60.301593 \nL 119.646449 58.572875 \nL 116.264631 56.844157 \nL 112.882812 55.115438 \nL 109.500994 53.38672 \nL 106.119176 51.658002 \nL 102.737358 49.929284 \nL 99.35554 48.200565 \nL 95.973722 46.471847 \nL 92.591903 44.743129 \nL 89.210085 43.014411 \nL 85.828267 41.285692 \nL 82.446449 39.556974 \nL 79.064631 37.828256 \nL 75.682812 36.099537 \nL 72.300994 34.370819 \nL 68.919176 32.642101 \nL 65.537358 30.913383 \nL 62.15554 29.184664 \nL 58.773722 27.455946 \nL 55.391903 25.727228 \nL 52.010085 23.998509 \nL 48.628267 22.269791 \nL 45.246449 20.541073 \nL 41.864631 18.812355 \nL 38.482812 17.083636 \nz\n\" style=\"fill:#1f77b4;fill-opacity:0.15;\"/>\n   </g>\n   <g id=\"PathCollection_2\">\n    <defs>\n     <path d=\"M 0 3 \nC 0.795609 3 1.55874 2.683901 2.12132 2.12132 \nC 2.683901 1.55874 3 0.795609 3 0 \nC 3 -0.795609 2.683901 -1.55874 2.12132 -2.12132 \nC 1.55874 -2.683901 0.795609 -3 0 -3 \nC -0.795609 -3 -1.55874 -2.683901 -2.12132 -2.12132 \nC -2.683901 -1.55874 -3 -0.795609 -3 0 \nC -3 0.795609 -2.683901 1.55874 -2.12132 2.12132 \nC -1.55874 2.683901 -0.795609 3 0 3 \nz\n\" id=\"m0e251c200e\" style=\"stroke:#ffffff;stroke-width:0.75;\"/>\n    </defs>\n    <g clip-path=\"url(#pd08678d3ef)\">\n     <use style=\"fill:#ff0000;stroke:#ffffff;stroke-width:0.75;\" x=\"373.282812\" xlink:href=\"#m0e251c200e\" y=\"188.226746\"/>\n     <use style=\"fill:#ff0000;stroke:#ffffff;stroke-width:0.75;\" x=\"38.482812\" xlink:href=\"#m0e251c200e\" y=\"190.926014\"/>\n     <use style=\"fill:#ff0000;stroke:#ffffff;stroke-width:0.75;\" x=\"297.274164\" xlink:href=\"#m0e251c200e\" y=\"149.372635\"/>\n     <use style=\"fill:#ff0000;stroke:#ffffff;stroke-width:0.75;\" x=\"149.479569\" xlink:href=\"#m0e251c200e\" y=\"186.712993\"/>\n    </g>\n   </g>\n   <g id=\"matplotlib.axis_1\">\n    <g id=\"xtick_1\">\n     <g id=\"line2d_1\">\n      <defs>\n       <path d=\"M 0 0 \nL 0 3.5 \n\" id=\"m6815acfb7f\" style=\"stroke:#000000;stroke-width:0.8;\"/>\n      </defs>\n      <g>\n       <use style=\"stroke:#000000;stroke-width:0.8;\" x=\"75.28065\" xlink:href=\"#m6815acfb7f\" y=\"224.64\"/>\n      </g>\n     </g>\n     <g id=\"text_1\">\n      <!-- 0.3 -->\n      <defs>\n       <path d=\"M 31.78125 66.40625 \nQ 24.171875 66.40625 20.328125 58.90625 \nQ 16.5 51.421875 16.5 36.375 \nQ 16.5 21.390625 20.328125 13.890625 \nQ 24.171875 6.390625 31.78125 6.390625 \nQ 39.453125 6.390625 43.28125 13.890625 \nQ 47.125 21.390625 47.125 36.375 \nQ 47.125 51.421875 43.28125 58.90625 \nQ 39.453125 66.40625 31.78125 66.40625 \nz\nM 31.78125 74.21875 \nQ 44.046875 74.21875 50.515625 64.515625 \nQ 56.984375 54.828125 56.984375 36.375 \nQ 56.984375 17.96875 50.515625 8.265625 \nQ 44.046875 -1.421875 31.78125 -1.421875 \nQ 19.53125 -1.421875 13.0625 8.265625 \nQ 6.59375 17.96875 6.59375 36.375 \nQ 6.59375 54.828125 13.0625 64.515625 \nQ 19.53125 74.21875 31.78125 74.21875 \nz\n\" id=\"DejaVuSans-48\"/>\n       <path d=\"M 10.6875 12.40625 \nL 21 12.40625 \nL 21 0 \nL 10.6875 0 \nz\n\" id=\"DejaVuSans-46\"/>\n       <path d=\"M 40.578125 39.3125 \nQ 47.65625 37.796875 51.625 33 \nQ 55.609375 28.21875 55.609375 21.1875 \nQ 55.609375 10.40625 48.1875 4.484375 \nQ 40.765625 -1.421875 27.09375 -1.421875 \nQ 22.515625 -1.421875 17.65625 -0.515625 \nQ 12.796875 0.390625 7.625 2.203125 \nL 7.625 11.71875 \nQ 11.71875 9.328125 16.59375 8.109375 \nQ 21.484375 6.890625 26.8125 6.890625 \nQ 36.078125 6.890625 40.9375 10.546875 \nQ 45.796875 14.203125 45.796875 21.1875 \nQ 45.796875 27.640625 41.28125 31.265625 \nQ 36.765625 34.90625 28.71875 34.90625 \nL 20.21875 34.90625 \nL 20.21875 43.015625 \nL 29.109375 43.015625 \nQ 36.375 43.015625 40.234375 45.921875 \nQ 44.09375 48.828125 44.09375 54.296875 \nQ 44.09375 59.90625 40.109375 62.90625 \nQ 36.140625 65.921875 28.71875 65.921875 \nQ 24.65625 65.921875 20.015625 65.03125 \nQ 15.375 64.15625 9.8125 62.3125 \nL 9.8125 71.09375 \nQ 15.4375 72.65625 20.34375 73.4375 \nQ 25.25 74.21875 29.59375 74.21875 \nQ 40.828125 74.21875 47.359375 69.109375 \nQ 53.90625 64.015625 53.90625 55.328125 \nQ 53.90625 49.265625 50.4375 45.09375 \nQ 46.96875 40.921875 40.578125 39.3125 \nz\n\" id=\"DejaVuSans-51\"/>\n      </defs>\n      <g transform=\"translate(67.329088 239.238438)scale(0.1 -0.1)\">\n       <use xlink:href=\"#DejaVuSans-48\"/>\n       <use x=\"63.623047\" xlink:href=\"#DejaVuSans-46\"/>\n       <use x=\"95.410156\" xlink:href=\"#DejaVuSans-51\"/>\n      </g>\n     </g>\n    </g>\n    <g id=\"xtick_2\">\n     <g id=\"line2d_2\">\n      <g>\n       <use style=\"stroke:#000000;stroke-width:0.8;\" x=\"135.604975\" xlink:href=\"#m6815acfb7f\" y=\"224.64\"/>\n      </g>\n     </g>\n     <g id=\"text_2\">\n      <!-- 0.4 -->\n      <defs>\n       <path d=\"M 37.796875 64.3125 \nL 12.890625 25.390625 \nL 37.796875 25.390625 \nz\nM 35.203125 72.90625 \nL 47.609375 72.90625 \nL 47.609375 25.390625 \nL 58.015625 25.390625 \nL 58.015625 17.1875 \nL 47.609375 17.1875 \nL 47.609375 0 \nL 37.796875 0 \nL 37.796875 17.1875 \nL 4.890625 17.1875 \nL 4.890625 26.703125 \nz\n\" id=\"DejaVuSans-52\"/>\n      </defs>\n      <g transform=\"translate(127.653412 239.238438)scale(0.1 -0.1)\">\n       <use xlink:href=\"#DejaVuSans-48\"/>\n       <use x=\"63.623047\" xlink:href=\"#DejaVuSans-46\"/>\n       <use x=\"95.410156\" xlink:href=\"#DejaVuSans-52\"/>\n      </g>\n     </g>\n    </g>\n    <g id=\"xtick_3\">\n     <g id=\"line2d_3\">\n      <g>\n       <use style=\"stroke:#000000;stroke-width:0.8;\" x=\"195.929299\" xlink:href=\"#m6815acfb7f\" y=\"224.64\"/>\n      </g>\n     </g>\n     <g id=\"text_3\">\n      <!-- 0.5 -->\n      <defs>\n       <path d=\"M 10.796875 72.90625 \nL 49.515625 72.90625 \nL 49.515625 64.59375 \nL 19.828125 64.59375 \nL 19.828125 46.734375 \nQ 21.96875 47.46875 24.109375 47.828125 \nQ 26.265625 48.1875 28.421875 48.1875 \nQ 40.625 48.1875 47.75 41.5 \nQ 54.890625 34.8125 54.890625 23.390625 \nQ 54.890625 11.625 47.5625 5.09375 \nQ 40.234375 -1.421875 26.90625 -1.421875 \nQ 22.3125 -1.421875 17.546875 -0.640625 \nQ 12.796875 0.140625 7.71875 1.703125 \nL 7.71875 11.625 \nQ 12.109375 9.234375 16.796875 8.0625 \nQ 21.484375 6.890625 26.703125 6.890625 \nQ 35.15625 6.890625 40.078125 11.328125 \nQ 45.015625 15.765625 45.015625 23.390625 \nQ 45.015625 31 40.078125 35.4375 \nQ 35.15625 39.890625 26.703125 39.890625 \nQ 22.75 39.890625 18.8125 39.015625 \nQ 14.890625 38.140625 10.796875 36.28125 \nz\n\" id=\"DejaVuSans-53\"/>\n      </defs>\n      <g transform=\"translate(187.977736 239.238438)scale(0.1 -0.1)\">\n       <use xlink:href=\"#DejaVuSans-48\"/>\n       <use x=\"63.623047\" xlink:href=\"#DejaVuSans-46\"/>\n       <use x=\"95.410156\" xlink:href=\"#DejaVuSans-53\"/>\n      </g>\n     </g>\n    </g>\n    <g id=\"xtick_4\">\n     <g id=\"line2d_4\">\n      <g>\n       <use style=\"stroke:#000000;stroke-width:0.8;\" x=\"256.253623\" xlink:href=\"#m6815acfb7f\" y=\"224.64\"/>\n      </g>\n     </g>\n     <g id=\"text_4\">\n      <!-- 0.6 -->\n      <defs>\n       <path d=\"M 33.015625 40.375 \nQ 26.375 40.375 22.484375 35.828125 \nQ 18.609375 31.296875 18.609375 23.390625 \nQ 18.609375 15.53125 22.484375 10.953125 \nQ 26.375 6.390625 33.015625 6.390625 \nQ 39.65625 6.390625 43.53125 10.953125 \nQ 47.40625 15.53125 47.40625 23.390625 \nQ 47.40625 31.296875 43.53125 35.828125 \nQ 39.65625 40.375 33.015625 40.375 \nz\nM 52.59375 71.296875 \nL 52.59375 62.3125 \nQ 48.875 64.0625 45.09375 64.984375 \nQ 41.3125 65.921875 37.59375 65.921875 \nQ 27.828125 65.921875 22.671875 59.328125 \nQ 17.53125 52.734375 16.796875 39.40625 \nQ 19.671875 43.65625 24.015625 45.921875 \nQ 28.375 48.1875 33.59375 48.1875 \nQ 44.578125 48.1875 50.953125 41.515625 \nQ 57.328125 34.859375 57.328125 23.390625 \nQ 57.328125 12.15625 50.6875 5.359375 \nQ 44.046875 -1.421875 33.015625 -1.421875 \nQ 20.359375 -1.421875 13.671875 8.265625 \nQ 6.984375 17.96875 6.984375 36.375 \nQ 6.984375 53.65625 15.1875 63.9375 \nQ 23.390625 74.21875 37.203125 74.21875 \nQ 40.921875 74.21875 44.703125 73.484375 \nQ 48.484375 72.75 52.59375 71.296875 \nz\n\" id=\"DejaVuSans-54\"/>\n      </defs>\n      <g transform=\"translate(248.302061 239.238438)scale(0.1 -0.1)\">\n       <use xlink:href=\"#DejaVuSans-48\"/>\n       <use x=\"63.623047\" xlink:href=\"#DejaVuSans-46\"/>\n       <use x=\"95.410156\" xlink:href=\"#DejaVuSans-54\"/>\n      </g>\n     </g>\n    </g>\n    <g id=\"xtick_5\">\n     <g id=\"line2d_5\">\n      <g>\n       <use style=\"stroke:#000000;stroke-width:0.8;\" x=\"316.577948\" xlink:href=\"#m6815acfb7f\" y=\"224.64\"/>\n      </g>\n     </g>\n     <g id=\"text_5\">\n      <!-- 0.7 -->\n      <defs>\n       <path d=\"M 8.203125 72.90625 \nL 55.078125 72.90625 \nL 55.078125 68.703125 \nL 28.609375 0 \nL 18.3125 0 \nL 43.21875 64.59375 \nL 8.203125 64.59375 \nz\n\" id=\"DejaVuSans-55\"/>\n      </defs>\n      <g transform=\"translate(308.626385 239.238438)scale(0.1 -0.1)\">\n       <use xlink:href=\"#DejaVuSans-48\"/>\n       <use x=\"63.623047\" xlink:href=\"#DejaVuSans-46\"/>\n       <use x=\"95.410156\" xlink:href=\"#DejaVuSans-55\"/>\n      </g>\n     </g>\n    </g>\n   </g>\n   <g id=\"matplotlib.axis_2\">\n    <g id=\"ytick_1\">\n     <g id=\"line2d_6\">\n      <defs>\n       <path d=\"M 0 0 \nL -3.5 0 \n\" id=\"m22374d3975\" style=\"stroke:#000000;stroke-width:0.8;\"/>\n      </defs>\n      <g>\n       <use style=\"stroke:#000000;stroke-width:0.8;\" x=\"38.482813\" xlink:href=\"#m22374d3975\" y=\"221.348608\"/>\n      </g>\n     </g>\n     <g id=\"text_6\">\n      <!-- −0.5 -->\n      <defs>\n       <path d=\"M 10.59375 35.5 \nL 73.1875 35.5 \nL 73.1875 27.203125 \nL 10.59375 27.203125 \nz\n\" id=\"DejaVuSans-8722\"/>\n      </defs>\n      <g transform=\"translate(7.2 225.147827)scale(0.1 -0.1)\">\n       <use xlink:href=\"#DejaVuSans-8722\"/>\n       <use x=\"83.789062\" xlink:href=\"#DejaVuSans-48\"/>\n       <use x=\"147.412109\" xlink:href=\"#DejaVuSans-46\"/>\n       <use x=\"179.199219\" xlink:href=\"#DejaVuSans-53\"/>\n      </g>\n     </g>\n    </g>\n    <g id=\"ytick_2\">\n     <g id=\"line2d_7\">\n      <g>\n       <use style=\"stroke:#000000;stroke-width:0.8;\" x=\"38.482813\" xlink:href=\"#m22374d3975\" y=\"191.512363\"/>\n      </g>\n     </g>\n     <g id=\"text_7\">\n      <!-- 0.0 -->\n      <g transform=\"translate(15.579688 195.311582)scale(0.1 -0.1)\">\n       <use xlink:href=\"#DejaVuSans-48\"/>\n       <use x=\"63.623047\" xlink:href=\"#DejaVuSans-46\"/>\n       <use x=\"95.410156\" xlink:href=\"#DejaVuSans-48\"/>\n      </g>\n     </g>\n    </g>\n    <g id=\"ytick_3\">\n     <g id=\"line2d_8\">\n      <g>\n       <use style=\"stroke:#000000;stroke-width:0.8;\" x=\"38.482813\" xlink:href=\"#m22374d3975\" y=\"161.676119\"/>\n      </g>\n     </g>\n     <g id=\"text_8\">\n      <!-- 0.5 -->\n      <g transform=\"translate(15.579688 165.475338)scale(0.1 -0.1)\">\n       <use xlink:href=\"#DejaVuSans-48\"/>\n       <use x=\"63.623047\" xlink:href=\"#DejaVuSans-46\"/>\n       <use x=\"95.410156\" xlink:href=\"#DejaVuSans-53\"/>\n      </g>\n     </g>\n    </g>\n    <g id=\"ytick_4\">\n     <g id=\"line2d_9\">\n      <g>\n       <use style=\"stroke:#000000;stroke-width:0.8;\" x=\"38.482813\" xlink:href=\"#m22374d3975\" y=\"131.839874\"/>\n      </g>\n     </g>\n     <g id=\"text_9\">\n      <!-- 1.0 -->\n      <defs>\n       <path d=\"M 12.40625 8.296875 \nL 28.515625 8.296875 \nL 28.515625 63.921875 \nL 10.984375 60.40625 \nL 10.984375 69.390625 \nL 28.421875 72.90625 \nL 38.28125 72.90625 \nL 38.28125 8.296875 \nL 54.390625 8.296875 \nL 54.390625 0 \nL 12.40625 0 \nz\n\" id=\"DejaVuSans-49\"/>\n      </defs>\n      <g transform=\"translate(15.579688 135.639093)scale(0.1 -0.1)\">\n       <use xlink:href=\"#DejaVuSans-49\"/>\n       <use x=\"63.623047\" xlink:href=\"#DejaVuSans-46\"/>\n       <use x=\"95.410156\" xlink:href=\"#DejaVuSans-48\"/>\n      </g>\n     </g>\n    </g>\n    <g id=\"ytick_5\">\n     <g id=\"line2d_10\">\n      <g>\n       <use style=\"stroke:#000000;stroke-width:0.8;\" x=\"38.482813\" xlink:href=\"#m22374d3975\" y=\"102.00363\"/>\n      </g>\n     </g>\n     <g id=\"text_10\">\n      <!-- 1.5 -->\n      <g transform=\"translate(15.579688 105.802848)scale(0.1 -0.1)\">\n       <use xlink:href=\"#DejaVuSans-49\"/>\n       <use x=\"63.623047\" xlink:href=\"#DejaVuSans-46\"/>\n       <use x=\"95.410156\" xlink:href=\"#DejaVuSans-53\"/>\n      </g>\n     </g>\n    </g>\n    <g id=\"ytick_6\">\n     <g id=\"line2d_11\">\n      <g>\n       <use style=\"stroke:#000000;stroke-width:0.8;\" x=\"38.482813\" xlink:href=\"#m22374d3975\" y=\"72.167385\"/>\n      </g>\n     </g>\n     <g id=\"text_11\">\n      <!-- 2.0 -->\n      <defs>\n       <path d=\"M 19.1875 8.296875 \nL 53.609375 8.296875 \nL 53.609375 0 \nL 7.328125 0 \nL 7.328125 8.296875 \nQ 12.9375 14.109375 22.625 23.890625 \nQ 32.328125 33.6875 34.8125 36.53125 \nQ 39.546875 41.84375 41.421875 45.53125 \nQ 43.3125 49.21875 43.3125 52.78125 \nQ 43.3125 58.59375 39.234375 62.25 \nQ 35.15625 65.921875 28.609375 65.921875 \nQ 23.96875 65.921875 18.8125 64.3125 \nQ 13.671875 62.703125 7.8125 59.421875 \nL 7.8125 69.390625 \nQ 13.765625 71.78125 18.9375 73 \nQ 24.125 74.21875 28.421875 74.21875 \nQ 39.75 74.21875 46.484375 68.546875 \nQ 53.21875 62.890625 53.21875 53.421875 \nQ 53.21875 48.921875 51.53125 44.890625 \nQ 49.859375 40.875 45.40625 35.40625 \nQ 44.1875 33.984375 37.640625 27.21875 \nQ 31.109375 20.453125 19.1875 8.296875 \nz\n\" id=\"DejaVuSans-50\"/>\n      </defs>\n      <g transform=\"translate(15.579688 75.966604)scale(0.1 -0.1)\">\n       <use xlink:href=\"#DejaVuSans-50\"/>\n       <use x=\"63.623047\" xlink:href=\"#DejaVuSans-46\"/>\n       <use x=\"95.410156\" xlink:href=\"#DejaVuSans-48\"/>\n      </g>\n     </g>\n    </g>\n    <g id=\"ytick_7\">\n     <g id=\"line2d_12\">\n      <g>\n       <use style=\"stroke:#000000;stroke-width:0.8;\" x=\"38.482813\" xlink:href=\"#m22374d3975\" y=\"42.331141\"/>\n      </g>\n     </g>\n     <g id=\"text_12\">\n      <!-- 2.5 -->\n      <g transform=\"translate(15.579688 46.130359)scale(0.1 -0.1)\">\n       <use xlink:href=\"#DejaVuSans-50\"/>\n       <use x=\"63.623047\" xlink:href=\"#DejaVuSans-46\"/>\n       <use x=\"95.410156\" xlink:href=\"#DejaVuSans-53\"/>\n      </g>\n     </g>\n    </g>\n    <g id=\"ytick_8\">\n     <g id=\"line2d_13\">\n      <g>\n       <use style=\"stroke:#000000;stroke-width:0.8;\" x=\"38.482813\" xlink:href=\"#m22374d3975\" y=\"12.494896\"/>\n      </g>\n     </g>\n     <g id=\"text_13\">\n      <!-- 3.0 -->\n      <g transform=\"translate(15.579688 16.294115)scale(0.1 -0.1)\">\n       <use xlink:href=\"#DejaVuSans-51\"/>\n       <use x=\"63.623047\" xlink:href=\"#DejaVuSans-46\"/>\n       <use x=\"95.410156\" xlink:href=\"#DejaVuSans-48\"/>\n      </g>\n     </g>\n    </g>\n   </g>\n   <g id=\"line2d_14\">\n    <path clip-path=\"url(#pd08678d3ef)\" d=\"M 38.482812 188.204145 \nL 41.864631 188.023781 \nL 45.246449 187.843416 \nL 48.628267 187.663052 \nL 52.010085 187.482688 \nL 55.391903 187.302323 \nL 58.773722 187.121959 \nL 62.15554 186.941594 \nL 65.537358 186.76123 \nL 68.919176 186.580866 \nL 72.300994 186.400501 \nL 75.682812 186.220137 \nL 79.064631 186.039772 \nL 82.446449 185.859408 \nL 85.828267 185.679044 \nL 89.210085 185.498679 \nL 92.591903 185.318315 \nL 95.973722 185.13795 \nL 99.35554 184.957586 \nL 102.737358 184.777221 \nL 106.119176 184.596857 \nL 109.500994 184.416493 \nL 112.882812 184.236128 \nL 116.264631 184.055764 \nL 119.646449 183.875399 \nL 123.028267 183.695035 \nL 126.410085 183.514671 \nL 129.791903 183.334306 \nL 133.173722 183.153942 \nL 136.55554 182.973577 \nL 139.937358 182.793213 \nL 143.319176 182.612849 \nL 146.700994 182.432484 \nL 150.082813 182.25212 \nL 153.464631 182.071755 \nL 156.846449 181.891391 \nL 160.228267 181.711027 \nL 163.610085 181.530662 \nL 166.991903 181.350298 \nL 170.373722 181.169933 \nL 173.75554 180.989569 \nL 177.137358 180.809204 \nL 180.519176 180.62884 \nL 183.900994 180.448476 \nL 187.282813 180.268111 \nL 190.664631 180.087747 \nL 194.046449 179.907382 \nL 197.428267 179.727018 \nL 200.810085 179.546654 \nL 204.191903 179.366289 \nL 207.573722 179.185925 \nL 210.95554 179.00556 \nL 214.337358 178.825196 \nL 217.719176 178.644832 \nL 221.100994 178.464467 \nL 224.482812 178.284103 \nL 227.864631 178.103738 \nL 231.246449 177.923374 \nL 234.628267 177.74301 \nL 238.010085 177.562645 \nL 241.391903 177.382281 \nL 244.773722 177.201916 \nL 248.15554 177.021552 \nL 251.537358 176.841187 \nL 254.919176 176.660823 \nL 258.300994 176.480459 \nL 261.682812 176.300094 \nL 265.064631 176.11973 \nL 268.446449 175.939365 \nL 271.828267 175.759001 \nL 275.210085 175.578637 \nL 278.591903 175.398272 \nL 281.973722 175.217908 \nL 285.35554 175.037543 \nL 288.737358 174.857179 \nL 292.119176 174.676815 \nL 295.500994 174.49645 \nL 298.882812 174.316086 \nL 302.264631 174.135721 \nL 305.646449 173.955357 \nL 309.028267 173.774993 \nL 312.410085 173.594628 \nL 315.791903 173.414264 \nL 319.173722 173.233899 \nL 322.55554 173.053535 \nL 325.937358 172.87317 \nL 329.319176 172.692806 \nL 332.700994 172.512442 \nL 336.082813 172.332077 \nL 339.464631 172.151713 \nL 342.846449 171.971348 \nL 346.228267 171.790984 \nL 349.610085 171.61062 \nL 352.991903 171.430255 \nL 356.373722 171.249891 \nL 359.75554 171.069526 \nL 363.137358 170.889162 \nL 366.519176 170.708798 \nL 369.900994 170.528433 \nL 373.282812 170.348069 \n\" style=\"fill:none;stroke:#1f77b4;stroke-linecap:square;stroke-width:2.25;\"/>\n   </g>\n   <g id=\"patch_3\">\n    <path d=\"M 38.482813 224.64 \nL 38.482813 7.2 \n\" style=\"fill:none;stroke:#000000;stroke-linecap:square;stroke-linejoin:miter;stroke-width:0.8;\"/>\n   </g>\n   <g id=\"patch_4\">\n    <path d=\"M 373.282813 224.64 \nL 373.282813 7.2 \n\" style=\"fill:none;stroke:#000000;stroke-linecap:square;stroke-linejoin:miter;stroke-width:0.8;\"/>\n   </g>\n   <g id=\"patch_5\">\n    <path d=\"M 38.482812 224.64 \nL 373.282812 224.64 \n\" style=\"fill:none;stroke:#000000;stroke-linecap:square;stroke-linejoin:miter;stroke-width:0.8;\"/>\n   </g>\n   <g id=\"patch_6\">\n    <path d=\"M 38.482812 7.2 \nL 373.282812 7.2 \n\" style=\"fill:none;stroke:#000000;stroke-linecap:square;stroke-linejoin:miter;stroke-width:0.8;\"/>\n   </g>\n  </g>\n </g>\n <defs>\n  <clipPath id=\"pd08678d3ef\">\n   <rect height=\"217.44\" width=\"334.8\" x=\"38.482813\" y=\"7.2\"/>\n  </clipPath>\n </defs>\n</svg>\n",
      "text/plain": [
       "<Figure size 432x288 with 1 Axes>"
      ]
     },
     "metadata": {
      "needs_background": "light"
     },
     "output_type": "display_data"
    }
   ],
   "source": [
    "import seaborn as sns\n",
    "g = sns.regplot(x_train, y_train)\n",
    "sns.scatterplot(x, y, color='red')"
   ]
  },
  {
   "cell_type": "code",
   "execution_count": 15,
   "metadata": {},
   "outputs": [
    {
     "data": {
      "text/html": [
       "<div>\n",
       "<style scoped>\n",
       "    .dataframe tbody tr th:only-of-type {\n",
       "        vertical-align: middle;\n",
       "    }\n",
       "\n",
       "    .dataframe tbody tr th {\n",
       "        vertical-align: top;\n",
       "    }\n",
       "\n",
       "    .dataframe thead th {\n",
       "        text-align: right;\n",
       "    }\n",
       "</style>\n",
       "<table border=\"1\" class=\"dataframe\">\n",
       "  <thead>\n",
       "    <tr style=\"text-align: right;\">\n",
       "      <th></th>\n",
       "      <th>Continent</th>\n",
       "      <th>Country</th>\n",
       "      <th>Province</th>\n",
       "      <th>Data Start Date</th>\n",
       "      <th>MAPE</th>\n",
       "      <th>Infection Rate</th>\n",
       "      <th>Median Day of Action</th>\n",
       "      <th>Rate of Action</th>\n",
       "      <th>Rate of Death</th>\n",
       "      <th>Mortality Rate</th>\n",
       "      <th>Rate of Mortality Rate Decay</th>\n",
       "      <th>Internal Parameter 1</th>\n",
       "      <th>Internal Parameter 2</th>\n",
       "      <th>Jump Magnitude</th>\n",
       "      <th>Jump Time</th>\n",
       "      <th>Jump Decay</th>\n",
       "    </tr>\n",
       "  </thead>\n",
       "  <tbody>\n",
       "    <tr>\n",
       "      <th>65</th>\n",
       "      <td>Europe</td>\n",
       "      <td>Germany</td>\n",
       "      <td>None</td>\n",
       "      <td>2020-03-01</td>\n",
       "      <td>56.100635</td>\n",
       "      <td>2.714868</td>\n",
       "      <td>5.044104</td>\n",
       "      <td>4.431403</td>\n",
       "      <td>0.071761</td>\n",
       "      <td>0.049394</td>\n",
       "      <td>0.01232</td>\n",
       "      <td>2.707296</td>\n",
       "      <td>0.477221</td>\n",
       "      <td>3.03437</td>\n",
       "      <td>98.536701</td>\n",
       "      <td>1.016234</td>\n",
       "    </tr>\n",
       "  </tbody>\n",
       "</table>\n",
       "</div>"
      ],
      "text/plain": [
       "   Continent  Country Province Data Start Date       MAPE  Infection Rate  \\\n",
       "65    Europe  Germany     None      2020-03-01  56.100635        2.714868   \n",
       "\n",
       "    Median Day of Action  Rate of Action  Rate of Death  Mortality Rate  \\\n",
       "65              5.044104        4.431403       0.071761        0.049394   \n",
       "\n",
       "    Rate of Mortality Rate Decay  Internal Parameter 1  Internal Parameter 2  \\\n",
       "65                       0.01232              2.707296              0.477221   \n",
       "\n",
       "    Jump Magnitude  Jump Time  Jump Decay  \n",
       "65         3.03437  98.536701    1.016234  "
      ]
     },
     "execution_count": 15,
     "metadata": {},
     "output_type": "execute_result"
    }
   ],
   "source": [
    "past_parameters.query(\"Country == @country\")"
   ]
  },
  {
   "cell_type": "markdown",
   "metadata": {},
   "source": [
    "## Gamma values for different policies internationally"
   ]
  },
  {
   "cell_type": "code",
   "execution_count": 5,
   "metadata": {},
   "outputs": [],
   "source": [
    "from pandemic_functions.delphi_functions.DELPHI_model_policy_scenarios import gamma_t"
   ]
  },
  {
   "cell_type": "code",
   "execution_count": 6,
   "metadata": {},
   "outputs": [
    {
     "name": "stderr",
     "output_type": "stream",
     "text": [
      "/Users/saksham/opt/anaconda3/lib/python3.8/site-packages/IPython/core/interactiveshell.py:3263: DtypeWarning: Columns (2,3) have mixed types.Specify dtype option on import or set low_memory=False.\n",
      "  if (await self.run_code(code, result,  async_=asy)):\n",
      "/Users/saksham/opt/anaconda3/lib/python3.8/site-packages/pandas/core/indexing.py:845: SettingWithCopyWarning: \n",
      "A value is trying to be set on a copy of a slice from a DataFrame.\n",
      "Try using .loc[row_indexer,col_indexer] = value instead\n",
      "\n",
      "See the caveats in the documentation: https://pandas.pydata.org/pandas-docs/stable/user_guide/indexing.html#returning-a-view-versus-a-copy\n",
      "  self.obj[key] = _infer_fill_value(value)\n",
      "/Users/saksham/opt/anaconda3/lib/python3.8/site-packages/pandas/core/indexing.py:966: SettingWithCopyWarning: \n",
      "A value is trying to be set on a copy of a slice from a DataFrame.\n",
      "Try using .loc[row_indexer,col_indexer] = value instead\n",
      "\n",
      "See the caveats in the documentation: https://pandas.pydata.org/pandas-docs/stable/user_guide/indexing.html#returning-a-view-versus-a-copy\n",
      "  self.obj[item] = s\n"
     ]
    }
   ],
   "source": [
    "policy_data_countries = read_oxford_international_policy_data(\"2020-06-01\")\n",
    "policy_data_countries.loc[:,\"country_cl\"] = policy_data_countries[\"country\"].apply(\n",
    "    lambda x: x.replace(\",\", \"\").strip().lower()\n",
    ")\n",
    "countries_set = set(policy_data_countries[\"country_cl\"])\n",
    "\n",
    "past_parameters_copy = deepcopy(past_parameters)\n",
    "past_parameters_copy.loc[:, \"Country\"] = past_parameters_copy[\"Country\"].apply(\n",
    "    lambda x: str(x).replace(\",\", \"\").strip().lower()\n",
    ")\n",
    "params_countries = past_parameters_copy[\"Country\"]\n",
    "params_countries = set(params_countries)\n",
    "policy_data_countries_bis = policy_data_countries.query(\n",
    "    \"country_cl in @params_countries\"\n",
    ")\n",
    "\n",
    "params_dic = {}\n",
    "countries_set = countries_set.intersection(params_countries)\n",
    "for country in countries_set:\n",
    "    params_dic[country] = past_parameters_copy.query(\"Country == @country\")[\n",
    "        [\"Data Start Date\", \"Median Day of Action\", \"Rate of Action\"]\n",
    "    ].iloc[0]\n",
    "\n",
    "policy_data_countries_bis.loc[:,\"Gamma\"] = [\n",
    "    gamma_t(day, country, params_dic)\n",
    "    for day, country in zip(\n",
    "        policy_data_countries_bis[\"date\"], policy_data_countries_bis[\"country_cl\"]\n",
    "    )\n",
    "]\n",
    "n_measures = policy_data_countries_bis.iloc[:, 3:-2].shape[1]\n",
    "dict_normalized_policy_gamma = {\n",
    "    policy_data_countries_bis.columns[3 + i]: policy_data_countries_bis[\n",
    "        policy_data_countries_bis.iloc[:, 3 + i] == 1\n",
    "    ]\n",
    "    .iloc[:, -1]\n",
    "    .mean()\n",
    "    for i in range(n_measures)\n",
    "}"
   ]
  },
  {
   "cell_type": "code",
   "execution_count": 7,
   "metadata": {},
   "outputs": [
    {
     "data": {
      "text/plain": [
       "{'No_Measure': 1.224290866083324,\n",
       " 'Restrict_Mass_Gatherings': 0.9212492614815385,\n",
       " 'Mass_Gatherings_Authorized_But_Others_Restricted': 1.1939111331532786,\n",
       " 'Restrict_Mass_Gatherings_and_Schools': 1.8554005264375264,\n",
       " 'Authorize_Schools_but_Restrict_Mass_Gatherings_and_Others': 0.7891718671910969,\n",
       " 'Restrict_Mass_Gatherings_and_Schools_and_Others': 0.6950541388557803,\n",
       " 'Lockdown': 0.7060714502148392}"
      ]
     },
     "execution_count": 7,
     "metadata": {},
     "output_type": "execute_result"
    }
   ],
   "source": [
    "dict_normalized_policy_gamma"
   ]
  },
  {
   "cell_type": "markdown",
   "metadata": {},
   "source": [
    "## Interpolate Gamma values"
   ]
  },
  {
   "cell_type": "code",
   "execution_count": 10,
   "metadata": {},
   "outputs": [
    {
     "data": {
      "text/plain": [
       "{'No_Measure': 1.0,\n",
       " 'Restrict_Mass_Gatherings': 0.8104706755038068,\n",
       " 'Mass_Gatherings_Authorized_But_Others_Restricted': 0.7958070876891542,\n",
       " 'Restrict_Mass_Gatherings_and_Schools': 0.22248206249986824,\n",
       " 'Authorize_Schools_but_Restrict_Mass_Gatherings_and_Others': 0.02076684601453382,\n",
       " 'Restrict_Mass_Gatherings_and_Schools_and_Others': 0.09063592219879021,\n",
       " 'Lockdown': 0.011073174927134189}"
      ]
     },
     "execution_count": 10,
     "metadata": {},
     "output_type": "execute_result"
    }
   ],
   "source": [
    "default_dict_normalized_policy_gamma"
   ]
  },
  {
   "cell_type": "code",
   "execution_count": 11,
   "metadata": {},
   "outputs": [
    {
     "data": {
      "text/plain": [
       "{'No_Measure': 0.882873941367236,\n",
       " 'Restrict_Mass_Gatherings': 0.718050896592993,\n",
       " 'Mass_Gatherings_Authorized_But_Others_Restricted': 0.7061835256280393,\n",
       " 'Restrict_Mass_Gatherings_and_Schools': 0.20671011201778164,\n",
       " 'Authorize_Schools_but_Restrict_Mass_Gatherings_and_Others': 0.05506083991833012,\n",
       " 'Restrict_Mass_Gatherings_and_Schools_and_Others': 0.08042853108125524,\n",
       " 'Lockdown': 0.009826117197129107}"
      ]
     },
     "execution_count": 11,
     "metadata": {},
     "output_type": "execute_result"
    }
   ],
   "source": [
    "from scipy.stats import linregress\n",
    "\n",
    "x = np.array(list(default_dict_normalized_policy_gamma.values()))\n",
    "y = np.array(list(dict_normalized_policy_gamma_country.values()))\n",
    "\n",
    "x_train, x_test = x[~np.isnan(y)], x[np.isnan(y)]\n",
    "y_train = y[~np.isnan(y)]\n",
    "\n",
    "m, C, _, _, _ = linregress(x_train, y_train)\n",
    "\n",
    "for key, val in dict_normalized_policy_gamma_country.items():\n",
    "    if np.isnan(dict_normalized_policy_gamma_country[key]):\n",
    "        dict_normalized_policy_gamma_country[key] = m*default_dict_normalized_policy_gamma[key] + C\n",
    "\n",
    "dict_normalized_policy_gamma_country"
   ]
  },
  {
   "cell_type": "markdown",
   "metadata": {},
   "source": [
    "Above values are un-normalized"
   ]
  },
  {
   "cell_type": "code",
   "execution_count": 12,
   "metadata": {},
   "outputs": [
    {
     "data": {
      "text/plain": [
       "(0.8696440258644705, 0.013229915502765477)"
      ]
     },
     "execution_count": 12,
     "metadata": {},
     "output_type": "execute_result"
    }
   ],
   "source": [
    "m, C"
   ]
  },
  {
   "cell_type": "code",
   "execution_count": 7,
   "metadata": {},
   "outputs": [
    {
     "ename": "NameError",
     "evalue": "name 'x' is not defined",
     "output_type": "error",
     "traceback": [
      "\u001b[0;31m---------------------------------------------------------------------------\u001b[0m",
      "\u001b[0;31mNameError\u001b[0m                                 Traceback (most recent call last)",
      "\u001b[0;32m<ipython-input-7-1baeb88ac7d1>\u001b[0m in \u001b[0;36m<module>\u001b[0;34m\u001b[0m\n\u001b[1;32m      2\u001b[0m \u001b[0mget_ipython\u001b[0m\u001b[0;34m(\u001b[0m\u001b[0;34m)\u001b[0m\u001b[0;34m.\u001b[0m\u001b[0mrun_line_magic\u001b[0m\u001b[0;34m(\u001b[0m\u001b[0;34m'matplotlib'\u001b[0m\u001b[0;34m,\u001b[0m \u001b[0;34m'inline'\u001b[0m\u001b[0;34m)\u001b[0m\u001b[0;34m\u001b[0m\u001b[0;34m\u001b[0m\u001b[0m\n\u001b[1;32m      3\u001b[0m \u001b[0;34m\u001b[0m\u001b[0m\n\u001b[0;32m----> 4\u001b[0;31m \u001b[0mplt\u001b[0m\u001b[0;34m.\u001b[0m\u001b[0mscatter\u001b[0m\u001b[0;34m(\u001b[0m\u001b[0mx\u001b[0m\u001b[0;34m,\u001b[0m \u001b[0my\u001b[0m\u001b[0;34m)\u001b[0m\u001b[0;34m\u001b[0m\u001b[0;34m\u001b[0m\u001b[0m\n\u001b[0m",
      "\u001b[0;31mNameError\u001b[0m: name 'x' is not defined"
     ]
    }
   ],
   "source": [
    "from matplotlib import pyplot as plt\n",
    "%matplotlib inline\n",
    "\n",
    "plt.scatter(x, y)"
   ]
  },
  {
   "cell_type": "code",
   "execution_count": 14,
   "metadata": {},
   "outputs": [
    {
     "data": {
      "text/plain": [
       "{'No_Measure': 1.0,\n",
       " 'Restrict_Mass_Gatherings': 0.813310783055852,\n",
       " 'Mass_Gatherings_Authorized_But_Others_Restricted': 0.79986903287057,\n",
       " 'Restrict_Mass_Gatherings_and_Schools': 0.2341332123787302,\n",
       " 'Authorize_Schools_but_Restrict_Mass_Gatherings_and_Others': 0.0623654605017131,\n",
       " 'Restrict_Mass_Gatherings_and_Schools_and_Others': 0.09109854455178734,\n",
       " 'Lockdown': 0.011129694440762618}"
      ]
     },
     "execution_count": 14,
     "metadata": {},
     "output_type": "execute_result"
    }
   ],
   "source": [
    "normalize_val = dict_normalized_policy_gamma_country[future_policies[0]]\n",
    "for policy in dict_normalized_policy_gamma_country.keys():\n",
    "    dict_normalized_policy_gamma_country[policy] = (\n",
    "        dict_normalized_policy_gamma_country[policy] / normalize_val\n",
    "    )\n",
    "dict_normalized_policy_gamma_country"
   ]
  },
  {
   "cell_type": "markdown",
   "metadata": {},
   "source": [
    "## Debugging and analysis"
   ]
  },
  {
   "cell_type": "code",
   "execution_count": 21,
   "metadata": {},
   "outputs": [],
   "source": [
    "from pandemic_functions.delphi_functions.DELPHI_model_policy_scenarios import get_latest_policy\n",
    "from dateutil.relativedelta import relativedelta"
   ]
  },
  {
   "cell_type": "code",
   "execution_count": 24,
   "metadata": {},
   "outputs": [
    {
     "name": "stdout",
     "output_type": "stream",
     "text": [
      "0 Restrict_Mass_Gatherings_and_Schools_and_Others\n",
      "1 Restrict_Mass_Gatherings_and_Schools_and_Others\n",
      "2 Authorize_Schools_but_Restrict_Mass_Gatherings_and_Others\n"
     ]
    }
   ],
   "source": [
    " start = pd.to_datetime(\"2020-04-01\")\n",
    " for i in range(0,3):\n",
    "    print(i, get_latest_policy(policy_data, start+relativedelta(months=i)))"
   ]
  },
  {
   "cell_type": "code",
   "execution_count": 6,
   "metadata": {},
   "outputs": [
    {
     "data": {
      "text/html": [
       "<div>\n",
       "<style scoped>\n",
       "    .dataframe tbody tr th:only-of-type {\n",
       "        vertical-align: middle;\n",
       "    }\n",
       "\n",
       "    .dataframe tbody tr th {\n",
       "        vertical-align: top;\n",
       "    }\n",
       "\n",
       "    .dataframe thead th {\n",
       "        text-align: right;\n",
       "    }\n",
       "</style>\n",
       "<table border=\"1\" class=\"dataframe\">\n",
       "  <thead>\n",
       "    <tr style=\"text-align: right;\">\n",
       "      <th></th>\n",
       "      <th>Continent</th>\n",
       "      <th>Country</th>\n",
       "      <th>Province</th>\n",
       "      <th>Data Start Date</th>\n",
       "      <th>MAPE</th>\n",
       "      <th>Infection Rate</th>\n",
       "      <th>Median Day of Action</th>\n",
       "      <th>Rate of Action</th>\n",
       "      <th>Rate of Death</th>\n",
       "      <th>Mortality Rate</th>\n",
       "      <th>Rate of Mortality Rate Decay</th>\n",
       "      <th>Internal Parameter 1</th>\n",
       "      <th>Internal Parameter 2</th>\n",
       "      <th>Jump Magnitude</th>\n",
       "      <th>Jump Time</th>\n",
       "      <th>Jump Decay</th>\n",
       "    </tr>\n",
       "  </thead>\n",
       "  <tbody>\n",
       "    <tr>\n",
       "      <th>190</th>\n",
       "      <td>North America</td>\n",
       "      <td>US</td>\n",
       "      <td>New York</td>\n",
       "      <td>2020-03-08</td>\n",
       "      <td>84.528473</td>\n",
       "      <td>10.088795</td>\n",
       "      <td>0.15692</td>\n",
       "      <td>12.093626</td>\n",
       "      <td>0.479893</td>\n",
       "      <td>0.088566</td>\n",
       "      <td>0.063241</td>\n",
       "      <td>4.892041</td>\n",
       "      <td>1.075604</td>\n",
       "      <td>0.927178</td>\n",
       "      <td>104.162591</td>\n",
       "      <td>1.104433</td>\n",
       "    </tr>\n",
       "  </tbody>\n",
       "</table>\n",
       "</div>"
      ],
      "text/plain": [
       "         Continent Country  Province Data Start Date       MAPE  \\\n",
       "190  North America      US  New York      2020-03-08  84.528473   \n",
       "\n",
       "     Infection Rate  Median Day of Action  Rate of Action  Rate of Death  \\\n",
       "190       10.088795               0.15692       12.093626       0.479893   \n",
       "\n",
       "     Mortality Rate  Rate of Mortality Rate Decay  Internal Parameter 1  \\\n",
       "190        0.088566                      0.063241              4.892041   \n",
       "\n",
       "     Internal Parameter 2  Jump Magnitude   Jump Time  Jump Decay  \n",
       "190              1.075604        0.927178  104.162591    1.104433  "
      ]
     },
     "execution_count": 6,
     "metadata": {},
     "output_type": "execute_result"
    }
   ],
   "source": [
    "past_parameters.query(\"Province == 'New York'\")"
   ]
  },
  {
   "cell_type": "code",
   "execution_count": 7,
   "metadata": {},
   "outputs": [
    {
     "data": {
      "text/plain": [
       "2.492015619455979"
      ]
     },
     "execution_count": 7,
     "metadata": {},
     "output_type": "execute_result"
    }
   ],
   "source": [
    "past_parameters[\"Infection Rate\"].mean()"
   ]
  },
  {
   "cell_type": "code",
   "execution_count": null,
   "metadata": {},
   "outputs": [],
   "source": []
  }
 ],
 "metadata": {
  "kernelspec": {
   "display_name": "Python 3.8.3 64-bit ('base': conda)",
   "name": "python383jvsc74a57bd0bcae9fa33c0b8b7ffb5e5f839154ee5123f3d8da27254582c09d65579e150ffa"
  },
  "language_info": {
   "codemirror_mode": {
    "name": "ipython",
    "version": 3
   },
   "file_extension": ".py",
   "mimetype": "text/x-python",
   "name": "python",
   "nbconvert_exporter": "python",
   "pygments_lexer": "ipython3",
   "version": "3.8.3"
  },
  "orig_nbformat": 2
 },
 "nbformat": 4,
 "nbformat_minor": 2
}